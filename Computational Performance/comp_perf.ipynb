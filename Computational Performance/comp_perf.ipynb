{
 "cells": [
  {
   "cell_type": "markdown",
   "id": "05633dd1",
   "metadata": {},
   "source": [
    "# Imports"
   ]
  },
  {
   "cell_type": "code",
   "execution_count": 1,
   "id": "b8dc300b",
   "metadata": {},
   "outputs": [],
   "source": [
    "%matplotlib inline\n",
    "import numpy as np\n",
    "import math\n",
    "import torch\n",
    "from torch import nn\n",
    "import time\n",
    "from matplotlib import pyplot as plt\n",
    "from torch.nn import functional as F"
   ]
  },
  {
   "cell_type": "markdown",
   "id": "4cba107f",
   "metadata": {},
   "source": [
    "# Symbolic Programming"
   ]
  },
  {
   "cell_type": "markdown",
   "id": "84088284",
   "metadata": {},
   "source": [
    "A simulation of a symbolic program (Since we are still using the Python interpreter here)"
   ]
  },
  {
   "cell_type": "code",
   "execution_count": 2,
   "id": "22ae52d5",
   "metadata": {},
   "outputs": [
    {
     "name": "stdout",
     "output_type": "stream",
     "text": [
      "\n",
      "def add(a, b):\n",
      "    return a + b\n",
      "\n",
      "def fancy_func(a, b, c, d):\n",
      "    e = add(a, b)\n",
      "    f = add(c, d)\n",
      "    g = add(e, f)\n",
      "    return g\n",
      "print(fancy_func(1, 2, 3, 4))\n",
      "10\n"
     ]
    }
   ],
   "source": [
    "def add_():\n",
    "    return '''\n",
    "def add(a, b):\n",
    "    return a + b\n",
    "'''\n",
    "\n",
    "def fancy_func_():\n",
    "    return '''\n",
    "def fancy_func(a, b, c, d):\n",
    "    e = add(a, b)\n",
    "    f = add(c, d)\n",
    "    g = add(e, f)\n",
    "    return g\n",
    "'''\n",
    "\n",
    "def evoke_():\n",
    "    return add_() + fancy_func_() + 'print(fancy_func(1, 2, 3, 4))'\n",
    "\n",
    "prog = evoke_()\n",
    "print(prog)\n",
    "y = compile(prog, '', 'exec')\n",
    "exec(y)"
   ]
  },
  {
   "cell_type": "markdown",
   "id": "5c83e851",
   "metadata": {},
   "source": [
    "# Hybridization"
   ]
  },
  {
   "cell_type": "markdown",
   "id": "7d92b390",
   "metadata": {},
   "source": [
    "Hybridization takes advantage of the imperative programming approach which makes the code very easy to read and debug and the fast execution and portability of symbolic programs that can avoid the bottleneck of the python interpreter"
   ]
  },
  {
   "cell_type": "markdown",
   "id": "254a6771",
   "metadata": {},
   "source": [
    "## Hybridizing the Sequential Class"
   ]
  },
  {
   "cell_type": "code",
   "execution_count": 3,
   "id": "cb814402",
   "metadata": {},
   "outputs": [
    {
     "data": {
      "text/plain": [
       "tensor([[ 0.1353, -0.0302]], grad_fn=<AddmmBackward0>)"
      ]
     },
     "execution_count": 3,
     "metadata": {},
     "output_type": "execute_result"
    }
   ],
   "source": [
    "# Factory for networks\n",
    "def get_net():\n",
    "    net = nn.Sequential(nn.Linear(512, 256),\n",
    "            nn.ReLU(),\n",
    "            nn.Linear(256, 128),\n",
    "            nn.ReLU(),\n",
    "            nn.Linear(128, 2))\n",
    "    return net\n",
    "\n",
    "x = torch.randn(size=(1, 512))\n",
    "net = get_net()\n",
    "net(x)"
   ]
  },
  {
   "cell_type": "code",
   "execution_count": 4,
   "id": "b9a432b1",
   "metadata": {},
   "outputs": [
    {
     "data": {
      "text/plain": [
       "tensor([[ 0.1353, -0.0302]], grad_fn=<AddmmBackward0>)"
      ]
     },
     "execution_count": 4,
     "metadata": {},
     "output_type": "execute_result"
    }
   ],
   "source": [
    "net = torch.jit.script(net)\n",
    "net(x)"
   ]
  },
  {
   "cell_type": "markdown",
   "id": "24a80801",
   "metadata": {},
   "source": [
    "### Benchmarking the performance improvement"
   ]
  },
  {
   "cell_type": "markdown",
   "id": "72cefba3",
   "metadata": {},
   "source": [
    "While the compilation and execution seems identical to the earlier network, we can benchmark the performance to show the improvement made with hybridization"
   ]
  },
  {
   "cell_type": "code",
   "execution_count": 5,
   "id": "43c0eb71",
   "metadata": {},
   "outputs": [],
   "source": [
    "class Timer:\n",
    "    \"\"\"Recording multiple running times.\"\"\"\n",
    "    def __init__(self):\n",
    "        self.times = []\n",
    "        self.start()\n",
    "\n",
    "    def start(self):\n",
    "        \"\"\"Start the timer.\"\"\"\n",
    "        self.tik = time.time()\n",
    "\n",
    "    def stop(self):\n",
    "        \"\"\"Stop the timer and record the time in a list.\"\"\"\n",
    "        self.times.append(time.time() - self.tik)\n",
    "        return self.times[-1]\n",
    "\n",
    "    def avg(self):\n",
    "        \"\"\"Return the average time.\"\"\"\n",
    "        return sum(self.times) / len(self.times)\n",
    "\n",
    "    def sum(self):\n",
    "        \"\"\"Return the sum of time.\"\"\"\n",
    "        return sum(self.times)\n",
    "\n",
    "    def cumsum(self):\n",
    "        \"\"\"Return the accumulated time.\"\"\"\n",
    "        return np.array(self.times).cumsum().tolist()"
   ]
  },
  {
   "cell_type": "code",
   "execution_count": 6,
   "id": "0f6dd1b5",
   "metadata": {},
   "outputs": [],
   "source": [
    "class Benchmark:\n",
    "    \"\"\"For measuring running time.\"\"\"\n",
    "    def __init__(self, description='Done'):\n",
    "        self.description = description\n",
    "\n",
    "    def __enter__(self):\n",
    "        self.timer = Timer()\n",
    "        return self\n",
    "\n",
    "    def __exit__(self, *args):\n",
    "        print(f'{self.description}: {self.timer.stop():.4f} sec')"
   ]
  },
  {
   "cell_type": "code",
   "execution_count": 7,
   "id": "aca13608",
   "metadata": {},
   "outputs": [
    {
     "name": "stdout",
     "output_type": "stream",
     "text": [
      "Without torchscript: 0.0793 sec\n",
      "With torchscript: 0.0755 sec\n"
     ]
    }
   ],
   "source": [
    "net = get_net()\n",
    "with Benchmark('Without torchscript'):\n",
    "    for i in range(1000): net(x)\n",
    "\n",
    "net = torch.jit.script(net)\n",
    "with Benchmark('With torchscript'):\n",
    "    for i in range(1000): net(x)"
   ]
  },
  {
   "cell_type": "markdown",
   "id": "06899a9c",
   "metadata": {},
   "source": [
    "Here, we can see the difference in performance. As we create more complicated networks, the performance difference will matter more"
   ]
  },
  {
   "cell_type": "markdown",
   "id": "1f247af6",
   "metadata": {},
   "source": [
    "### Serialization"
   ]
  },
  {
   "cell_type": "markdown",
   "id": "a6ad47d7",
   "metadata": {},
   "source": [
    "We can serialize (save) the model and parameters on the disk to use in a front-end agnostic manner"
   ]
  },
  {
   "cell_type": "code",
   "execution_count": 8,
   "id": "3675a90d",
   "metadata": {},
   "outputs": [],
   "source": [
    "net.save('my_mlp')"
   ]
  },
  {
   "cell_type": "markdown",
   "id": "6b6ce656",
   "metadata": {},
   "source": [
    "# Asynchronous Computation"
   ]
  },
  {
   "cell_type": "markdown",
   "id": "257bc83b",
   "metadata": {},
   "source": [
    "## Asynchrony via backend"
   ]
  },
  {
   "cell_type": "code",
   "execution_count": 9,
   "id": "274ef74a",
   "metadata": {},
   "outputs": [
    {
     "name": "stdout",
     "output_type": "stream",
     "text": [
      "Using device: cuda\n",
      "numpy: 0.3482 sec\n",
      "torch: 0.0017 sec\n"
     ]
    }
   ],
   "source": [
    "# Warmup for GPU computation\n",
    "device = torch.device('cuda' if torch.cuda.is_available() else 'cpu')\n",
    "print('Using device:', device)\n",
    "a = torch.randn(size=(1000, 1000), device=device)\n",
    "b = torch.mm(a, a)\n",
    "\n",
    "with Benchmark('numpy'):\n",
    "    for _ in range(10):\n",
    "        a = np.random.normal(size=(1000, 1000))\n",
    "        b = np.dot(a, a)\n",
    "\n",
    "with Benchmark('torch'):\n",
    "    for _ in range(10):\n",
    "        a = torch.randn(size=(1000, 1000), device=device)\n",
    "        b = torch.mm(a, a)"
   ]
  },
  {
   "cell_type": "markdown",
   "id": "a3442214",
   "metadata": {},
   "source": [
    "Clearly operations undertaken using numpy (CPU) are slower than operations that leverage the GPU like with PyTorch (GPU)"
   ]
  },
  {
   "cell_type": "code",
   "execution_count": 10,
   "id": "7a3ab80f",
   "metadata": {},
   "outputs": [
    {
     "name": "stdout",
     "output_type": "stream",
     "text": [
      "Done: 0.0021 sec\n"
     ]
    }
   ],
   "source": [
    "with Benchmark():\n",
    "    for _ in range(10):\n",
    "        a = torch.randn(size=(1000, 1000), device=device)\n",
    "        b = torch.mm(a, a)\n",
    "    torch.cuda.synchronize(device)"
   ]
  },
  {
   "cell_type": "markdown",
   "id": "34f67a9c",
   "metadata": {},
   "source": [
    "It's also clear that the advantage is not just because of the GPU. The PyTorch backend (written in C++) processes variables asynchonously while the front end (Python notebook) waits for the operations to execute"
   ]
  },
  {
   "cell_type": "code",
   "execution_count": 11,
   "id": "e639d688",
   "metadata": {},
   "outputs": [
    {
     "data": {
      "text/plain": [
       "tensor([[3., 3.]], device='cuda:0')"
      ]
     },
     "execution_count": 11,
     "metadata": {},
     "output_type": "execute_result"
    }
   ],
   "source": [
    "x = torch.ones((1, 2), device=device)\n",
    "y = torch.ones((1, 2), device=device)\n",
    "z = x * y + 2\n",
    "z"
   ]
  },
  {
   "cell_type": "markdown",
   "id": "91dedc1e",
   "metadata": {},
   "source": [
    "Behind the scenes, the front end (Python in this instance) will execute the first 3 statements and will only wait for the backend (C++) before outputting the value of z"
   ]
  },
  {
   "cell_type": "markdown",
   "id": "d59758f4",
   "metadata": {},
   "source": [
    "## Barriers and Blockers"
   ]
  },
  {
   "cell_type": "code",
   "execution_count": 12,
   "id": "3924fa58",
   "metadata": {},
   "outputs": [
    {
     "name": "stdout",
     "output_type": "stream",
     "text": [
      "torch conversion: 0.0010 sec\n",
      "numpy conversion: 0.0006 sec\n",
      "scalar conversion: 0.0231 sec\n"
     ]
    }
   ],
   "source": [
    "with Benchmark('torch conversion'):\n",
    "    b = torch.mm(a, a)\n",
    "    b = b.cpu()\n",
    "    \n",
    "with Benchmark('numpy conversion'):\n",
    "    b = torch.mm(a, a)\n",
    "    b = b.cpu().numpy()\n",
    "\n",
    "with Benchmark('scalar conversion'):\n",
    "    b = torch.mm(a, a)\n",
    "    b = b.sum().item()"
   ]
  },
  {
   "cell_type": "markdown",
   "id": "88eee37d",
   "metadata": {},
   "source": [
    ".numpy() and .item() conversion doesn't take advantage of asynchrony due to the implementation of numpy. Thus, these actions can slow down a program"
   ]
  },
  {
   "cell_type": "markdown",
   "id": "597e846c",
   "metadata": {},
   "source": [
    "# Automatic Parallelism"
   ]
  },
  {
   "cell_type": "markdown",
   "id": "8a5e3279",
   "metadata": {},
   "source": [
    "## Parallel Computation on GPUs"
   ]
  },
  {
   "cell_type": "code",
   "execution_count": 13,
   "id": "5147ebdd",
   "metadata": {},
   "outputs": [
    {
     "name": "stdout",
     "output_type": "stream",
     "text": [
      "  Device 0: NVIDIA GeForce RTX 5070\n",
      "Multiple GPUs: False\n"
     ]
    }
   ],
   "source": [
    "multiple_gpus = False\n",
    "device_count = torch.cuda.device_count()\n",
    "devices = []\n",
    "if device_count == 2:\n",
    "    multiple_gpus = True\n",
    "for i in range(torch.cuda.device_count()):\n",
    "    print(f\"  Device {i}: {torch.cuda.get_device_name(i)}\")\n",
    "    devices.append(torch.cuda.get_device_name(i))\n",
    "print(f\"Multiple GPUs: {multiple_gpus}\")"
   ]
  },
  {
   "cell_type": "code",
   "execution_count": 14,
   "id": "e5793057",
   "metadata": {},
   "outputs": [
    {
     "name": "stdout",
     "output_type": "stream",
     "text": [
      "You need at least 2 GPUs to run this example\n"
     ]
    }
   ],
   "source": [
    "def run(x):\n",
    "    return [x.mm(x) for _ in range(50)]\n",
    "if multiple_gpus:\n",
    "    x_gpu1 = torch.rand(size=(4000, 4000), device=devices[0])\n",
    "    x_gpu2 = torch.rand(size=(4000, 4000), device=devices[1])\n",
    "else:\n",
    "    print(f\"You need at least 2 GPUs to run this example\")"
   ]
  },
  {
   "cell_type": "code",
   "execution_count": 15,
   "id": "c7154465",
   "metadata": {},
   "outputs": [
    {
     "name": "stdout",
     "output_type": "stream",
     "text": [
      "You need at least 2 GPUs to run this example\n"
     ]
    }
   ],
   "source": [
    "if multiple_gpus:    \n",
    "    run(x_gpu1)\n",
    "    run(x_gpu2)  # Warm-up all devices\n",
    "    torch.cuda.synchronize(devices[0])\n",
    "    torch.cuda.synchronize(devices[1])\n",
    "\n",
    "    with Benchmark('GPU1 time'):\n",
    "        run(x_gpu1)\n",
    "        torch.cuda.synchronize(devices[0])\n",
    "\n",
    "    with Benchmark('GPU2 time'):\n",
    "        run(x_gpu2)\n",
    "        torch.cuda.synchronize(devices[1])\n",
    "else:\n",
    "    print(f\"You need at least 2 GPUs to run this example\")"
   ]
  },
  {
   "cell_type": "code",
   "execution_count": 16,
   "id": "1bddd4ce",
   "metadata": {},
   "outputs": [
    {
     "name": "stdout",
     "output_type": "stream",
     "text": [
      "You need at least 2 GPUs to run this example\n"
     ]
    }
   ],
   "source": [
    "if multiple_gpus:\n",
    "    with Benchmark('GPU1 & GPU2'):\n",
    "        run(x_gpu1)\n",
    "        run(x_gpu2)\n",
    "        torch.cuda.synchronize()\n",
    "else:\n",
    "    print(f\"You need at least 2 GPUs to run this example\")"
   ]
  },
  {
   "cell_type": "markdown",
   "id": "eb1343f4",
   "metadata": {},
   "source": [
    "## Parallel computation and communication"
   ]
  },
  {
   "cell_type": "code",
   "execution_count": 17,
   "id": "d079d427",
   "metadata": {},
   "outputs": [
    {
     "name": "stdout",
     "output_type": "stream",
     "text": [
      "Run on GPU1: 0.6795 sec\n",
      "Copy to CPU: 0.7793 sec\n"
     ]
    }
   ],
   "source": [
    "def copy_to_cpu(x, non_blocking=False):\n",
    "    return [y.to('cpu', non_blocking=non_blocking) for y in x]\n",
    "\n",
    "device = torch.device('cuda' if torch.cuda.is_available() else 'none')\n",
    "x_gpu1 = torch.rand(size=(4000, 4000), device=device)\n",
    "run(x_gpu1)  # Warm-up\n",
    "with Benchmark('Run on GPU1'):\n",
    "    y = run(x_gpu1)\n",
    "    torch.cuda.synchronize()\n",
    "with Benchmark('Copy to CPU'):\n",
    "    y_cpu = copy_to_cpu(y)\n",
    "    torch.cuda.synchronize()"
   ]
  },
  {
   "cell_type": "markdown",
   "id": "17ee4eee",
   "metadata": {},
   "source": [
    "Clearly copying the tensor to CPU is expensive"
   ]
  },
  {
   "cell_type": "code",
   "execution_count": 18,
   "id": "5526d663",
   "metadata": {},
   "outputs": [
    {
     "name": "stdout",
     "output_type": "stream",
     "text": [
      "Run on GPU1 and copy to CPU: 1.9932 sec\n"
     ]
    }
   ],
   "source": [
    "with Benchmark('Run on GPU1 and copy to CPU'):\n",
    "    y = run(x_gpu1)\n",
    "    y_cpu = copy_to_cpu(y, True)\n",
    "    torch.cuda.synchronize()"
   ]
  },
  {
   "cell_type": "markdown",
   "id": "07b9b56d",
   "metadata": {},
   "source": [
    "# Training on multiple GPUs"
   ]
  },
  {
   "cell_type": "code",
   "execution_count": 19,
   "id": "b844c52a",
   "metadata": {},
   "outputs": [],
   "source": [
    "# Initialize model parameters\n",
    "scale = 0.01\n",
    "W1 = torch.randn(size=(20, 1, 3, 3)) * scale\n",
    "b1 = torch.zeros(20)\n",
    "W2 = torch.randn(size=(50, 20, 5, 5)) * scale\n",
    "b2 = torch.zeros(50)\n",
    "W3 = torch.randn(size=(800, 128)) * scale\n",
    "b3 = torch.zeros(128)\n",
    "W4 = torch.randn(size=(128, 10)) * scale\n",
    "b4 = torch.zeros(10)\n",
    "params = [W1, b1, W2, b2, W3, b3, W4, b4]\n",
    "\n",
    "# Define the model\n",
    "def lenet(X, params):\n",
    "    h1_conv = F.conv2d(input=X, weight=params[0], bias=params[1])\n",
    "    h1_activation = F.relu(h1_conv)\n",
    "    h1 = F.avg_pool2d(input=h1_activation, kernel_size=(2, 2), stride=(2, 2))\n",
    "    h2_conv = F.conv2d(input=h1, weight=params[2], bias=params[3])\n",
    "    h2_activation = F.relu(h2_conv)\n",
    "    h2 = F.avg_pool2d(input=h2_activation, kernel_size=(2, 2), stride=(2, 2))\n",
    "    h2 = h2.reshape(h2.shape[0], -1)\n",
    "    h3_linear = torch.mm(h2, params[4]) + params[5]\n",
    "    h3 = F.relu(h3_linear)\n",
    "    y_hat = torch.mm(h3, params[6]) + params[7]\n",
    "    return y_hat\n",
    "\n",
    "# Cross-entropy loss function\n",
    "loss = nn.CrossEntropyLoss(reduction='none')"
   ]
  },
  {
   "cell_type": "markdown",
   "id": "14bbd935",
   "metadata": {},
   "source": [
    "## Data synchronization"
   ]
  },
  {
   "cell_type": "code",
   "execution_count": 20,
   "id": "9929d885",
   "metadata": {},
   "outputs": [],
   "source": [
    "def get_params(params, device):\n",
    "    new_params = [p.to(device) for p in params]\n",
    "    for p in new_params:\n",
    "        p.requires_grad_(True)\n",
    "    return new_params"
   ]
  },
  {
   "cell_type": "code",
   "execution_count": 21,
   "id": "caa9de9a",
   "metadata": {},
   "outputs": [
    {
     "name": "stdout",
     "output_type": "stream",
     "text": [
      "b1 weight:  tensor([0., 0., 0., 0., 0., 0., 0., 0., 0., 0., 0., 0., 0., 0., 0., 0., 0., 0., 0., 0.],\n",
      "       device='cuda:0', requires_grad=True)\n",
      "b1 grad:  None\n"
     ]
    }
   ],
   "source": [
    "new_params = get_params(params, device)\n",
    "print('b1 weight: ', new_params[1])\n",
    "print('b1 grad: ', new_params[1].grad)\n"
   ]
  },
  {
   "cell_type": "code",
   "execution_count": 22,
   "id": "08dc152a",
   "metadata": {},
   "outputs": [],
   "source": [
    "def allreduce(data):\n",
    "    for i in range(1, len(data)):\n",
    "        data[0][:] += data[i].to(data[0].device)\n",
    "    for i in range(1, len(data)):\n",
    "        data[i][:] = data[0].to(data[i].device)"
   ]
  },
  {
   "cell_type": "code",
   "execution_count": 23,
   "id": "ca07ae0b",
   "metadata": {},
   "outputs": [
    {
     "name": "stdout",
     "output_type": "stream",
     "text": [
      "before allreduce:\n",
      " tensor([[1., 1.]], device='cuda:0') \n",
      " tensor([[2., 2.]], device='cuda:0')\n",
      "after allreduce:\n",
      " tensor([[3., 3.]], device='cuda:0') \n",
      " tensor([[3., 3.]], device='cuda:0')\n"
     ]
    }
   ],
   "source": [
    "data = [torch.ones((1, 2), device=device) * (i + 1) for i in range(2)]\n",
    "print('before allreduce:\\n', data[0], '\\n', data[1])\n",
    "allreduce(data)\n",
    "print('after allreduce:\\n', data[0], '\\n', data[1])"
   ]
  },
  {
   "cell_type": "markdown",
   "id": "c03b0859",
   "metadata": {},
   "source": [
    "## Distributing data"
   ]
  },
  {
   "cell_type": "code",
   "execution_count": 24,
   "id": "d5fa3697",
   "metadata": {},
   "outputs": [
    {
     "name": "stdout",
     "output_type": "stream",
     "text": [
      "input : tensor([[ 0,  1,  2,  3,  4],\n",
      "        [ 5,  6,  7,  8,  9],\n",
      "        [10, 11, 12, 13, 14],\n",
      "        [15, 16, 17, 18, 19]])\n",
      "load into [device(type='cuda', index=0)]\n",
      "output: (tensor([[ 0,  1,  2,  3,  4],\n",
      "        [ 5,  6,  7,  8,  9],\n",
      "        [10, 11, 12, 13, 14],\n",
      "        [15, 16, 17, 18, 19]], device='cuda:0'),)\n"
     ]
    }
   ],
   "source": [
    "data = torch.arange(20).reshape(4, 5)\n",
    "# Get available devices\n",
    "devices = []\n",
    "if torch.cuda.is_available():\n",
    "    num_gpus = torch.cuda.device_count()\n",
    "    devices = [torch.device(f'cuda:{i}') for i in range(num_gpus)]\n",
    "    if len(devices) == 0:\n",
    "        devices = [torch.device('cpu')]\n",
    "else:\n",
    "    devices = [torch.device('cpu')]\n",
    "\n",
    "# Split data across available devices\n",
    "split = nn.parallel.scatter(data, devices)\n",
    "print('input :', data)\n",
    "print('load into', devices)\n",
    "print('output:', split)"
   ]
  },
  {
   "cell_type": "code",
   "execution_count": 25,
   "id": "b345663e",
   "metadata": {},
   "outputs": [],
   "source": [
    "def split_batch(X, y, devices):\n",
    "    \"\"\"Split `X` and `y` into multiple devices.\"\"\"\n",
    "    assert X.shape[0] == y.shape[0]\n",
    "    return (nn.parallel.scatter(X, devices),\n",
    "            nn.parallel.scatter(y, devices))"
   ]
  },
  {
   "cell_type": "markdown",
   "id": "394072fa",
   "metadata": {},
   "source": [
    "## Training"
   ]
  },
  {
   "cell_type": "code",
   "execution_count": 26,
   "id": "01a9ecdf",
   "metadata": {},
   "outputs": [],
   "source": [
    "def train_batch(X, y, device_params, devices, lr):\n",
    "    X_shards, y_shards = split_batch(X, y, devices)\n",
    "    # Loss is calculated separately on each GPU\n",
    "    ls = [loss(lenet(X_shard, device_W), y_shard).sum()\n",
    "          for X_shard, y_shard, device_W in zip(\n",
    "              X_shards, y_shards, device_params)]\n",
    "    for l in ls:  # Backpropagation is performed separately on each GPU\n",
    "        l.backward()\n",
    "    # Sum all gradients from each GPU and broadcast them to all GPUs\n",
    "    with torch.no_grad():\n",
    "        for i in range(len(device_params[0])):\n",
    "            allreduce([device_params[c][i].grad for c in range(len(devices))])\n",
    "    # The model parameters are updated separately on each GPU\n",
    "    for device_W in device_params:\n",
    "        with torch.no_grad():\n",
    "            for param in device_W:\n",
    "                if param.grad is not None:\n",
    "                    param -= lr * param.grad / X.shape[0]\n",
    "                    param.grad.zero_()"
   ]
  },
  {
   "cell_type": "code",
   "execution_count": 27,
   "id": "8f4174b3",
   "metadata": {},
   "outputs": [],
   "source": [
    "from torchvision import transforms\n",
    "import torchvision\n",
    "def linreg(X, w, b):\n",
    "    \"\"\"Linear regression model.\"\"\"\n",
    "    return torch.matmul(X, w) + b\n",
    "\n",
    "def squared_loss(y_hat, y):\n",
    "    \"\"\"Squared loss function.\"\"\"\n",
    "    return (y_hat - y.reshape(y_hat.shape)) ** 2 / 2\n",
    "\n",
    "def evaluate_loss(net, data_iter, loss):\n",
    "    \"\"\"Evaluate the loss of a model on the given dataset.\"\"\"\n",
    "    metric = 0.0\n",
    "    num_batches = 0\n",
    "    with torch.no_grad():\n",
    "        for X, y in data_iter:\n",
    "            l = loss(net(X), y)\n",
    "            metric += l.sum()\n",
    "            num_batches += y.numel()\n",
    "    return metric / num_batches\n",
    "\n",
    "\n",
    "class Accumulator:\n",
    "    \"\"\"For accumulating sums over `n` variables.\"\"\"\n",
    "    def __init__(self, n):\n",
    "        \"\"\"Defined in :numref:`sec_softmax_scratch`\"\"\"\n",
    "        self.data = [0.0] * n\n",
    "\n",
    "    def add(self, *args):\n",
    "        self.data = [a + float(b) for a, b in zip(self.data, args)]\n",
    "\n",
    "    def reset(self):\n",
    "        self.data = [0.0] * len(self.data)\n",
    "\n",
    "    def __getitem__(self, idx):\n",
    "        return self.data[idx]\n",
    "    \n",
    "def load_data_fashion_mnist(batch_size, resize=None):\n",
    "    \"\"\"Download the Fashion-MNIST dataset and then load it into memory.\n",
    "\n",
    "    Defined in :numref:`sec_fashion_mnist`\"\"\"\n",
    "    trans = [transforms.ToTensor()]\n",
    "    if resize:\n",
    "        trans.insert(0, transforms.Resize(resize))\n",
    "    trans = transforms.Compose(trans)\n",
    "    mnist_train = torchvision.datasets.FashionMNIST(\n",
    "        root=\"../data\", train=True, transform=trans, download=True)\n",
    "    mnist_test = torchvision.datasets.FashionMNIST(\n",
    "        root=\"../data\", train=False, transform=trans, download=True)\n",
    "    return (data.DataLoader(mnist_train, batch_size, shuffle=True,\n",
    "                            num_workers=4),\n",
    "            data.DataLoader(mnist_test, batch_size, shuffle=False,\n",
    "                            num_workers=4))"
   ]
  },
  {
   "cell_type": "code",
   "execution_count": 28,
   "id": "fbd5c150",
   "metadata": {},
   "outputs": [],
   "source": [
    "class Timer:\n",
    "    \"\"\"Recording multiple running times.\"\"\"\n",
    "    def __init__(self):\n",
    "        self.times = []\n",
    "        self.start()\n",
    "\n",
    "    def start(self):\n",
    "        \"\"\"Start the timer.\"\"\"\n",
    "        self.tik = time.time()\n",
    "\n",
    "    def stop(self):\n",
    "        \"\"\"Stop the timer and record the time in a list.\"\"\"\n",
    "        self.times.append(time.time() - self.tik)\n",
    "        return self.times[-1]\n",
    "\n",
    "    def avg(self):\n",
    "        \"\"\"Return the average time.\"\"\"\n",
    "        return sum(self.times) / len(self.times)\n",
    "\n",
    "    def sum(self):\n",
    "        \"\"\"Return the sum of time.\"\"\"\n",
    "        return sum(self.times)\n",
    "\n",
    "    def cumsum(self):\n",
    "        \"\"\"Return the accumulated time.\"\"\"\n",
    "        return np.array(self.times).cumsum().tolist()\n",
    "    \n",
    "size = lambda x, *args, **kwargs: x.numel(*args, **kwargs)\n",
    "\n",
    "class Animator:  # Define a new Animator class that properly handles None values\n",
    "\tdef __init__(self, xlabel=None, ylabel=None, legend=None):\n",
    "\t\tself.data = {'train_loss': [], 'train_acc': [], 'test_acc': []}\n",
    "\t\tself.epochs = []\n",
    "\t\t\n",
    "\tdef add(self, epoch, metrics):\n",
    "\t\tself.epochs.append(epoch)\n",
    "\t\ttrain_loss, train_acc, test_acc = metrics\n",
    "\t\tif train_loss is not None:\n",
    "\t\t\tself.data['train_loss'].append(float(train_loss))\n",
    "\t\tif train_acc is not None:\n",
    "\t\t\tself.data['train_acc'].append(float(train_acc))\n",
    "\t\tif test_acc is not None:\n",
    "\t\t\tself.data['test_acc'].append(float(test_acc))\n",
    "\t\t\t\n",
    "\tdef show(self):\n",
    "\t\tplt.figure(figsize=(10, 6))\n",
    "\t\tfor label, values in self.data.items():\n",
    "\t\t\tif values:  # Only plot if we have data\n",
    "\t\t\t\tplt.plot(self.epochs[:len(values)], values, label=label)\n",
    "\t\tplt.xlabel('Epoch')\n",
    "\t\tplt.ylabel('Metric Value')\n",
    "\t\tplt.legend()\n",
    "\t\tplt.grid(True)\n",
    "\t\tplt.show()\n",
    "    \n",
    "def accuracy(y_hat, y):\n",
    "    \"\"\"Compute the number of correct predictions.\"\"\"\n",
    "    if len(y_hat.shape) > 1 and y_hat.shape[1] > 1:\n",
    "        y_hat = y_hat.argmax(axis=1)\n",
    "    cmp = y_hat.to(y.dtype) == y\n",
    "    return float(cmp.sum())\n",
    "\n",
    "def evaluate_accuracy_gpu(net, data_iter, device=None):\n",
    "    \"\"\"Compute the accuracy for a model on a dataset using a GPU.\n",
    "\n",
    "    Defined in :numref:`sec_lenet`\"\"\"\n",
    "    if isinstance(net, torch.nn.Module):\n",
    "        net.eval()  # Set the model to evaluation mode\n",
    "        if not device:\n",
    "            device = next(iter(net.parameters())).device\n",
    "    # No. of correct predictions, no. of predictions\n",
    "    metric = Accumulator(2)\n",
    "\n",
    "    with torch.no_grad():\n",
    "        for X, y in data_iter:\n",
    "            if isinstance(X, list):\n",
    "                # Required for BERT Fine-tuning (to be covered later)\n",
    "                X = [x.to(device) for x in X]\n",
    "            else:\n",
    "                X = X.to(device)\n",
    "            y = y.to(device)\n",
    "            metric.add(accuracy(net(X), y), size(y))\n",
    "    return metric[0] / metric[1]"
   ]
  },
  {
   "cell_type": "code",
   "execution_count": 29,
   "id": "ab3d7352",
   "metadata": {},
   "outputs": [],
   "source": [
    "def train(num_gpus, batch_size, lr):\n",
    "    train_iter, test_iter = load_data_fashion_mnist(batch_size)\n",
    "    # Copy model parameters to `num_gpus` GPUs\n",
    "    device_params = [get_params(params, d) for d in devices]\n",
    "    num_epochs = 10\n",
    "    animator = Animator(xlabel='epoch', ylabel='test acc')\n",
    "    timer = Timer()\n",
    "    for epoch in range(num_epochs):\n",
    "        timer.start()\n",
    "        for X, y in train_iter:\n",
    "            # Perform multi-GPU training for a single minibatch\n",
    "            train_batch(X, y, device_params, devices, lr)\n",
    "            torch.cuda.synchronize()\n",
    "        timer.stop()\n",
    "        # Evaluate the model on GPU 0\n",
    "        test_acc = evaluate_accuracy_gpu(lambda x: lenet(x, device_params[0]), test_iter, devices[0])\n",
    "        animator.add(epoch + 1, (None, None, test_acc))  # Provide all three metrics (train_loss, train_acc, test_acc)\n",
    "    print(f'test acc: {test_acc:.2f}, {timer.avg():.1f} sec/epoch '\n",
    "          f'on {str(devices)}')\n",
    "    animator.show()"
   ]
  },
  {
   "cell_type": "code",
   "execution_count": 30,
   "id": "28c80ed8",
   "metadata": {},
   "outputs": [
    {
     "name": "stdout",
     "output_type": "stream",
     "text": [
      "test acc: 0.85, 6.4 sec/epoch on [device(type='cuda', index=0)]\n"
     ]
    },
    {
     "data": {
      "image/png": "[encoded data removed]",
      "text/plain": [
       "<Figure size 1000x600 with 1 Axes>"
      ]
     },
     "metadata": {},
     "output_type": "display_data"
    }
   ],
   "source": [
    "from torch.utils import data\n",
    "\n",
    "train(num_gpus=1, batch_size=256, lr=0.2)"
   ]
  },
  {
   "cell_type": "code",
   "execution_count": 31,
   "id": "9b220fd5",
   "metadata": {},
   "outputs": [
    {
     "name": "stdout",
     "output_type": "stream",
     "text": [
      "You need at least 2 GPUs to run this example\n"
     ]
    }
   ],
   "source": [
    "# Try to train with 2 GPUs if available\n",
    "if len(devices) > 1:\n",
    "    train(num_gpus=2, batch_size=512, lr=0.2)\n",
    "else:\n",
    "    print(f\"You need at least 2 GPUs to run this example\")"
   ]
  },
  {
   "cell_type": "markdown",
   "id": "a8bb1f0e",
   "metadata": {},
   "source": [
    "# Concise implementation for multiple GPUs"
   ]
  },
  {
   "cell_type": "code",
   "execution_count": 32,
   "id": "028d6cb0",
   "metadata": {},
   "outputs": [],
   "source": [
    "class Residual(nn.Module):\n",
    "    \"\"\"The Residual block of ResNet.\"\"\"\n",
    "    def __init__(self, input_channels, num_channels, use_1x1conv=False, strides=1):\n",
    "        super().__init__()\n",
    "        self.conv1 = nn.Conv2d(input_channels, num_channels, kernel_size=3,\n",
    "                               padding=1, stride=strides)\n",
    "        self.conv2 = nn.Conv2d(num_channels, num_channels, kernel_size=3,\n",
    "                               padding=1)\n",
    "        if use_1x1conv:\n",
    "            self.conv3 = nn.Conv2d(input_channels, num_channels,\n",
    "                                   kernel_size=1, stride=strides)\n",
    "        else:\n",
    "            self.conv3 = None\n",
    "        self.bn1 = nn.BatchNorm2d(num_channels)\n",
    "        self.bn2 = nn.BatchNorm2d(num_channels)\n",
    "        self.relu = nn.ReLU(inplace=True)\n",
    "\n",
    "    def forward(self, X):\n",
    "        Y = self.relu(self.bn1(self.conv1(X)))\n",
    "        Y = self.bn2(self.conv2(Y))\n",
    "        if self.conv3:\n",
    "            X = self.conv3(X)\n",
    "        Y += X\n",
    "        return self.relu(Y)\n",
    "    \n",
    "def resnet18(num_classes, in_channels=1):\n",
    "    def resnet_block(in_channels, num_channels, num_residuals,\n",
    "                     first_block=False):\n",
    "        blk = []\n",
    "        for i in range(num_residuals):\n",
    "            if i == 0 and not first_block:\n",
    "                blk.append(Residual(in_channels, num_channels, use_1x1conv=True,\n",
    "                                        strides=2))\n",
    "            else:\n",
    "                blk.append(Residual(num_channels, num_channels))\n",
    "        return nn.Sequential(*blk)\n",
    "\n",
    "    # This model uses a smaller convolution kernel, stride, and padding and\n",
    "    # removes the max-pooling layer\n",
    "    net = nn.Sequential(\n",
    "        nn.Conv2d(in_channels, 64, kernel_size=3, stride=1, padding=1),\n",
    "        nn.BatchNorm2d(64),\n",
    "        nn.ReLU())\n",
    "    net.add_module(\"resnet_block1\", resnet_block(64, 64, 2, first_block=True))\n",
    "    net.add_module(\"resnet_block2\", resnet_block(64, 128, 2))\n",
    "    net.add_module(\"resnet_block3\", resnet_block(128, 256, 2))\n",
    "    net.add_module(\"resnet_block4\", resnet_block(256, 512, 2))\n",
    "    net.add_module(\"global_avg_pool\", nn.AdaptiveAvgPool2d((1,1)))\n",
    "    net.add_module(\"fc\", nn.Sequential(nn.Flatten(),\n",
    "                                       nn.Linear(512, num_classes)))\n",
    "    return net"
   ]
  },
  {
   "cell_type": "code",
   "execution_count": 33,
   "id": "465af04f",
   "metadata": {},
   "outputs": [],
   "source": [
    "def train(net, num_gpus, batch_size, lr):\n",
    "    train_iter, test_iter = load_data_fashion_mnist(batch_size)\n",
    "    def init_weights(module):\n",
    "        if type(module) in [nn.Linear, nn.Conv2d]:\n",
    "            nn.init.normal_(module.weight, std=0.01)\n",
    "    net.apply(init_weights)\n",
    "    # Set the model on multiple GPUs\n",
    "    net = nn.DataParallel(net, device_ids=devices)\n",
    "    trainer = torch.optim.SGD(net.parameters(), lr)\n",
    "    loss = nn.CrossEntropyLoss()\n",
    "    timer, num_epochs = Timer(), 10\n",
    "    animator = Animator(xlabel='epoch',ylabel= 'test acc')\n",
    "    for epoch in range(num_epochs):\n",
    "        net.train()\n",
    "        timer.start()\n",
    "        for X, y in train_iter:\n",
    "            trainer.zero_grad()\n",
    "            X, y = X.to(devices[0]), y.to(devices[0])\n",
    "            l = loss(net(X), y)\n",
    "            l.backward()\n",
    "            trainer.step()\n",
    "        timer.stop()\n",
    "        test_acc = evaluate_accuracy_gpu(net, test_iter, devices[0])\n",
    "        animator.add(epoch + 1, (None, None, test_acc))\n",
    "    print(f'test acc: {test_acc:.2f}, {timer.avg():.1f} sec/epoch '\n",
    "          f'on {str(devices)}')\n",
    "    animator.show()"
   ]
  },
  {
   "cell_type": "code",
   "execution_count": 34,
   "id": "6431aa5a",
   "metadata": {},
   "outputs": [
    {
     "name": "stdout",
     "output_type": "stream",
     "text": [
      "test acc: 0.89, 21.6 sec/epoch on [device(type='cuda', index=0)]\n"
     ]
    },
    {
     "data": {
      "image/png": "[encoded data removed]",
      "text/plain": [
       "<Figure size 1000x600 with 1 Axes>"
      ]
     },
     "metadata": {},
     "output_type": "display_data"
    }
   ],
   "source": [
    "net = resnet18(10) \n",
    "train(net=net, num_gpus=1, batch_size=256, lr=0.1)"
   ]
  },
  {
   "cell_type": "code",
   "execution_count": 35,
   "id": "04a21321",
   "metadata": {},
   "outputs": [
    {
     "name": "stdout",
     "output_type": "stream",
     "text": [
      "You need at least 2 GPUs to run this example\n"
     ]
    }
   ],
   "source": [
    "# Try to train with 2 GPUs if available\n",
    "if len(devices) > 1:\n",
    "    train(num_gpus=2, batch_size=512, lr=0.2)\n",
    "else:\n",
    "    print(f\"You need at least 2 GPUs to run this example\")"
   ]
  }
 ],
 "metadata": {
  "kernelspec": {
   "display_name": ".venv",
   "language": "python",
   "name": "python3"
  },
  "language_info": {
   "codemirror_mode": {
    "name": "ipython",
    "version": 3
   },
   "file_extension": ".py",
   "mimetype": "text/x-python",
   "name": "python",
   "nbconvert_exporter": "python",
   "pygments_lexer": "ipython3",
   "version": "3.10.0"
  }
 },
 "nbformat": 4,
 "nbformat_minor": 5
}
