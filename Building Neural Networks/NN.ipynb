{
 "cells": [
  {
   "cell_type": "markdown",
   "id": "f74d09bc",
   "metadata": {},
   "source": [
    "# Imports"
   ]
  },
  {
   "cell_type": "code",
   "execution_count": 2,
   "id": "72e340b2",
   "metadata": {},
   "outputs": [],
   "source": [
    "import torch\n",
    "from torch import nn\n",
    "from torch.nn import functional as F"
   ]
  },
  {
   "cell_type": "markdown",
   "id": "557378aa",
   "metadata": {},
   "source": [
    "# Layers"
   ]
  },
  {
   "cell_type": "code",
   "execution_count": 3,
   "id": "7f132062",
   "metadata": {},
   "outputs": [
    {
     "data": {
      "text/plain": [
       "torch.Size([2, 10])"
      ]
     },
     "execution_count": 3,
     "metadata": {},
     "output_type": "execute_result"
    }
   ],
   "source": [
    "# Network with one fully connected hidden layer with 256 units and ReLU activation, followed by a fully connected output layer with ten units (no activation function).\n",
    "net = nn.Sequential(nn.LazyLinear(256), nn.ReLU(), nn.LazyLinear(10))\n",
    "\n",
    "X = torch.rand(2, 20)\n",
    "net(X).shape"
   ]
  },
  {
   "cell_type": "markdown",
   "id": "879e5b85",
   "metadata": {},
   "source": [
    "# Creating Neural Network Modules"
   ]
  },
  {
   "cell_type": "markdown",
   "id": "08eac10e",
   "metadata": {},
   "source": [
    "## Custom Module"
   ]
  },
  {
   "cell_type": "code",
   "execution_count": 4,
   "id": "dbe7b8da",
   "metadata": {},
   "outputs": [],
   "source": [
    "class MLP(nn.Module):\n",
    "    def __init__(self):\n",
    "        # Call the constructor of the parent class nn.Module to perform\n",
    "        # the necessary initialization\n",
    "        super().__init__()\n",
    "        self.hidden = nn.LazyLinear(256)\n",
    "        self.out = nn.LazyLinear(10)\n",
    "\n",
    "    # Define the forward propagation of the model, that is, how to return the\n",
    "    # required model output based on the input X\n",
    "    def forward(self, X):\n",
    "        return self.out(F.relu(self.hidden(X)))"
   ]
  },
  {
   "cell_type": "code",
   "execution_count": 5,
   "id": "c061aa72",
   "metadata": {},
   "outputs": [
    {
     "data": {
      "text/plain": [
       "torch.Size([2, 10])"
      ]
     },
     "execution_count": 5,
     "metadata": {},
     "output_type": "execute_result"
    }
   ],
   "source": [
    "net = MLP()\n",
    "net(X).shape"
   ]
  },
  {
   "cell_type": "markdown",
   "id": "a8aa25ff",
   "metadata": {},
   "source": [
    "## Sequential Module"
   ]
  },
  {
   "cell_type": "code",
   "execution_count": 6,
   "id": "5982ff93",
   "metadata": {},
   "outputs": [],
   "source": [
    "class MySequential(nn.Module):\n",
    "    def __init__(self, *args):\n",
    "        super().__init__()\n",
    "        for idx, module in enumerate(args):\n",
    "            self.add_module(str(idx), module)\n",
    "\n",
    "    def forward(self, X):\n",
    "        for module in self.children():\n",
    "            X = module(X)\n",
    "        return X"
   ]
  },
  {
   "cell_type": "code",
   "execution_count": 7,
   "id": "c34c0664",
   "metadata": {},
   "outputs": [
    {
     "data": {
      "text/plain": [
       "torch.Size([2, 10])"
      ]
     },
     "execution_count": 7,
     "metadata": {},
     "output_type": "execute_result"
    }
   ],
   "source": [
    "net = MySequential(nn.LazyLinear(256), nn.ReLU(), nn.LazyLinear(10))\n",
    "net(X).shape"
   ]
  },
  {
   "cell_type": "markdown",
   "id": "49c6ae08",
   "metadata": {},
   "source": [
    "## Modules with constant parameters and control flow"
   ]
  },
  {
   "cell_type": "code",
   "execution_count": 8,
   "id": "27e5896c",
   "metadata": {},
   "outputs": [],
   "source": [
    "class FixedHiddenMLP(nn.Module):\n",
    "    def __init__(self):\n",
    "        super().__init__()\n",
    "        # Random weight parameters that will not compute gradients and\n",
    "        # therefore keep constant during training\n",
    "        self.rand_weight = torch.rand((20, 20))\n",
    "        self.linear = nn.LazyLinear(20)\n",
    "\n",
    "    def forward(self, X):\n",
    "        X = self.linear(X)\n",
    "        X = F.relu(X @ self.rand_weight + 1)\n",
    "        # Reuse the fully connected layer. This is equivalent to sharing\n",
    "        # parameters with two fully connected layers\n",
    "        X = self.linear(X)\n",
    "        # Control flow\n",
    "        while X.abs().sum() > 1:\n",
    "            X /= 2\n",
    "        return X.sum()"
   ]
  },
  {
   "cell_type": "code",
   "execution_count": 9,
   "id": "984904a5",
   "metadata": {},
   "outputs": [
    {
     "data": {
      "text/plain": [
       "tensor(0.1802, grad_fn=<SumBackward0>)"
      ]
     },
     "execution_count": 9,
     "metadata": {},
     "output_type": "execute_result"
    }
   ],
   "source": [
    "model = FixedHiddenMLP()\n",
    "model(X)"
   ]
  },
  {
   "cell_type": "markdown",
   "id": "3b532540",
   "metadata": {},
   "source": [
    "# Parameter Management"
   ]
  },
  {
   "cell_type": "markdown",
   "id": "f9199be6",
   "metadata": {},
   "source": [
    "## Parameter Access"
   ]
  },
  {
   "cell_type": "code",
   "execution_count": 10,
   "id": "d4744362",
   "metadata": {},
   "outputs": [
    {
     "data": {
      "text/plain": [
       "OrderedDict([('linear.weight',\n",
       "              tensor([[-0.0775,  0.0329, -0.1264,  0.1548,  0.2236,  0.1800,  0.1299,  0.0654,\n",
       "                        0.0100,  0.2154,  0.2110,  0.1630, -0.0928, -0.0936,  0.0539,  0.0765,\n",
       "                       -0.0682,  0.0993,  0.0199, -0.0616],\n",
       "                      [-0.1443,  0.2143,  0.1502, -0.1033,  0.1659,  0.2139,  0.0898, -0.0140,\n",
       "                        0.0904, -0.0145,  0.0308, -0.1710, -0.1666,  0.0924, -0.0421, -0.0837,\n",
       "                        0.1154, -0.1473, -0.2033, -0.1613],\n",
       "                      [ 0.1085, -0.0482,  0.0457,  0.2106,  0.1395,  0.0422, -0.1919, -0.0496,\n",
       "                        0.1927, -0.0873,  0.0009,  0.1187, -0.2014,  0.0671, -0.0275,  0.2159,\n",
       "                        0.0507,  0.0360,  0.2112, -0.2059],\n",
       "                      [-0.1645,  0.0238, -0.0547,  0.1689,  0.0775, -0.2104, -0.0786,  0.0267,\n",
       "                       -0.0847, -0.1531,  0.0583,  0.1872, -0.1668,  0.1951,  0.1574,  0.1777,\n",
       "                        0.1939, -0.0901,  0.0100,  0.0737],\n",
       "                      [-0.1718, -0.0259, -0.1604, -0.0556,  0.0542,  0.0288, -0.1707,  0.2051,\n",
       "                       -0.0273, -0.0339,  0.1391, -0.1435,  0.0386, -0.1638, -0.1498, -0.1579,\n",
       "                        0.1428, -0.0966,  0.0514, -0.1441],\n",
       "                      [ 0.2133, -0.2065,  0.0275, -0.1253, -0.0636,  0.0257,  0.1735,  0.0314,\n",
       "                       -0.1741, -0.0687, -0.1004,  0.1945, -0.0020,  0.0568, -0.1035, -0.0166,\n",
       "                        0.2156, -0.0608,  0.2081, -0.1076],\n",
       "                      [-0.2207, -0.2124, -0.0219,  0.0821,  0.1017, -0.0683, -0.1782,  0.1834,\n",
       "                        0.0917, -0.0181,  0.0196,  0.0997, -0.0194, -0.1530,  0.0308,  0.0832,\n",
       "                       -0.1960, -0.2169, -0.0469,  0.1003],\n",
       "                      [ 0.1252,  0.0538,  0.0916, -0.0201, -0.1795,  0.0139,  0.1586, -0.0143,\n",
       "                       -0.0789,  0.2235, -0.0106, -0.1474, -0.1008,  0.0782,  0.1491, -0.1922,\n",
       "                        0.1189, -0.0803, -0.1742, -0.1634],\n",
       "                      [ 0.1779,  0.1262,  0.1126, -0.2076,  0.0047,  0.0653,  0.0593,  0.0338,\n",
       "                        0.0637,  0.0146, -0.0435,  0.0059,  0.0995, -0.2051,  0.0886,  0.1447,\n",
       "                       -0.1269, -0.1407,  0.1917, -0.1850],\n",
       "                      [-0.0167, -0.1097,  0.0026, -0.0090, -0.0145,  0.1879, -0.0101, -0.0542,\n",
       "                        0.2213,  0.0859, -0.1415, -0.1694,  0.2176,  0.0122,  0.0322, -0.0510,\n",
       "                       -0.0160,  0.1645, -0.0498, -0.1181],\n",
       "                      [ 0.1532, -0.1786,  0.0615,  0.0677, -0.2132,  0.1677,  0.1764,  0.1194,\n",
       "                       -0.2043,  0.1781, -0.0723, -0.0688,  0.1946, -0.0635, -0.0970,  0.1367,\n",
       "                       -0.0778, -0.1945,  0.0559,  0.0801],\n",
       "                      [ 0.2235, -0.0771, -0.1586,  0.0949,  0.1766,  0.1888, -0.1226, -0.0642,\n",
       "                        0.1732, -0.1640,  0.1564,  0.1104, -0.0224, -0.1200, -0.2104, -0.1328,\n",
       "                        0.1631, -0.0082,  0.1939,  0.1891],\n",
       "                      [-0.0929,  0.2126, -0.1855, -0.1941, -0.0866,  0.2212, -0.1267,  0.0478,\n",
       "                        0.0978,  0.1646, -0.1212, -0.2174, -0.1920, -0.1918, -0.0184, -0.1894,\n",
       "                        0.0231, -0.1215,  0.1042,  0.1735],\n",
       "                      [-0.2023,  0.0258,  0.1508,  0.0730,  0.2231,  0.1967, -0.0471,  0.0923,\n",
       "                       -0.0751,  0.0703,  0.1047,  0.1595, -0.0918, -0.1010,  0.1840,  0.1183,\n",
       "                       -0.0371,  0.1708, -0.1729, -0.0989],\n",
       "                      [-0.0577,  0.0642,  0.1025, -0.0250,  0.1608, -0.0248,  0.0043,  0.1596,\n",
       "                        0.1869, -0.1893,  0.0830, -0.1773,  0.0977, -0.0971, -0.1413,  0.0944,\n",
       "                        0.2136,  0.1788,  0.1029, -0.0631],\n",
       "                      [-0.1184,  0.0270,  0.0305,  0.1184, -0.1277, -0.1648, -0.0555, -0.2123,\n",
       "                       -0.1027,  0.1148, -0.1112, -0.1092,  0.0184,  0.1489,  0.1677,  0.1428,\n",
       "                       -0.1301, -0.1536, -0.1543, -0.1257],\n",
       "                      [-0.2031,  0.2218, -0.0809, -0.0215, -0.0181,  0.1396,  0.1622,  0.1285,\n",
       "                        0.2206,  0.1390,  0.0470, -0.0754,  0.0578,  0.2038, -0.1203,  0.1584,\n",
       "                        0.1618, -0.0070, -0.1441, -0.0155],\n",
       "                      [-0.0551, -0.0050, -0.1563,  0.0215,  0.0517, -0.0112,  0.2107,  0.0515,\n",
       "                       -0.0221,  0.0959, -0.2192,  0.1590, -0.1503,  0.1774,  0.2104,  0.0591,\n",
       "                        0.1181,  0.2119,  0.1700,  0.0701],\n",
       "                      [-0.0383,  0.1193, -0.1721,  0.0506, -0.0328, -0.0990,  0.1515,  0.1260,\n",
       "                       -0.1883,  0.0983,  0.1528, -0.1496,  0.1203, -0.0501, -0.1279,  0.1858,\n",
       "                        0.0560,  0.1437,  0.0045,  0.0157],\n",
       "                      [ 0.0443,  0.0571, -0.2029, -0.1340, -0.0767,  0.1039,  0.0612,  0.1835,\n",
       "                        0.1017, -0.1711, -0.0687, -0.1365, -0.1967,  0.1117,  0.1291, -0.1614,\n",
       "                       -0.0894,  0.0809, -0.1229, -0.1870]])),\n",
       "             ('linear.bias',\n",
       "              tensor([ 0.0794,  0.0911,  0.2195, -0.1683, -0.0377,  0.0771, -0.2058, -0.1873,\n",
       "                      -0.0950, -0.0177, -0.0140,  0.0674,  0.0539, -0.0869,  0.0280, -0.1657,\n",
       "                       0.1887,  0.0182, -0.0703,  0.0382]))])"
      ]
     },
     "execution_count": 10,
     "metadata": {},
     "output_type": "execute_result"
    }
   ],
   "source": [
    "model.state_dict()"
   ]
  },
  {
   "cell_type": "code",
   "execution_count": 11,
   "id": "24396922",
   "metadata": {},
   "outputs": [
    {
     "data": {
      "text/plain": [
       "Parameter containing:\n",
       "tensor([ 0.0794,  0.0911,  0.2195, -0.1683, -0.0377,  0.0771, -0.2058, -0.1873,\n",
       "        -0.0950, -0.0177, -0.0140,  0.0674,  0.0539, -0.0869,  0.0280, -0.1657,\n",
       "         0.1887,  0.0182, -0.0703,  0.0382], requires_grad=True)"
      ]
     },
     "execution_count": 11,
     "metadata": {},
     "output_type": "execute_result"
    }
   ],
   "source": [
    "model.linear.bias"
   ]
  },
  {
   "cell_type": "code",
   "execution_count": 12,
   "id": "c158758b",
   "metadata": {},
   "outputs": [
    {
     "data": {
      "text/plain": [
       "Parameter containing:\n",
       "tensor([[-0.0775,  0.0329, -0.1264,  0.1548,  0.2236,  0.1800,  0.1299,  0.0654,\n",
       "          0.0100,  0.2154,  0.2110,  0.1630, -0.0928, -0.0936,  0.0539,  0.0765,\n",
       "         -0.0682,  0.0993,  0.0199, -0.0616],\n",
       "        [-0.1443,  0.2143,  0.1502, -0.1033,  0.1659,  0.2139,  0.0898, -0.0140,\n",
       "          0.0904, -0.0145,  0.0308, -0.1710, -0.1666,  0.0924, -0.0421, -0.0837,\n",
       "          0.1154, -0.1473, -0.2033, -0.1613],\n",
       "        [ 0.1085, -0.0482,  0.0457,  0.2106,  0.1395,  0.0422, -0.1919, -0.0496,\n",
       "          0.1927, -0.0873,  0.0009,  0.1187, -0.2014,  0.0671, -0.0275,  0.2159,\n",
       "          0.0507,  0.0360,  0.2112, -0.2059],\n",
       "        [-0.1645,  0.0238, -0.0547,  0.1689,  0.0775, -0.2104, -0.0786,  0.0267,\n",
       "         -0.0847, -0.1531,  0.0583,  0.1872, -0.1668,  0.1951,  0.1574,  0.1777,\n",
       "          0.1939, -0.0901,  0.0100,  0.0737],\n",
       "        [-0.1718, -0.0259, -0.1604, -0.0556,  0.0542,  0.0288, -0.1707,  0.2051,\n",
       "         -0.0273, -0.0339,  0.1391, -0.1435,  0.0386, -0.1638, -0.1498, -0.1579,\n",
       "          0.1428, -0.0966,  0.0514, -0.1441],\n",
       "        [ 0.2133, -0.2065,  0.0275, -0.1253, -0.0636,  0.0257,  0.1735,  0.0314,\n",
       "         -0.1741, -0.0687, -0.1004,  0.1945, -0.0020,  0.0568, -0.1035, -0.0166,\n",
       "          0.2156, -0.0608,  0.2081, -0.1076],\n",
       "        [-0.2207, -0.2124, -0.0219,  0.0821,  0.1017, -0.0683, -0.1782,  0.1834,\n",
       "          0.0917, -0.0181,  0.0196,  0.0997, -0.0194, -0.1530,  0.0308,  0.0832,\n",
       "         -0.1960, -0.2169, -0.0469,  0.1003],\n",
       "        [ 0.1252,  0.0538,  0.0916, -0.0201, -0.1795,  0.0139,  0.1586, -0.0143,\n",
       "         -0.0789,  0.2235, -0.0106, -0.1474, -0.1008,  0.0782,  0.1491, -0.1922,\n",
       "          0.1189, -0.0803, -0.1742, -0.1634],\n",
       "        [ 0.1779,  0.1262,  0.1126, -0.2076,  0.0047,  0.0653,  0.0593,  0.0338,\n",
       "          0.0637,  0.0146, -0.0435,  0.0059,  0.0995, -0.2051,  0.0886,  0.1447,\n",
       "         -0.1269, -0.1407,  0.1917, -0.1850],\n",
       "        [-0.0167, -0.1097,  0.0026, -0.0090, -0.0145,  0.1879, -0.0101, -0.0542,\n",
       "          0.2213,  0.0859, -0.1415, -0.1694,  0.2176,  0.0122,  0.0322, -0.0510,\n",
       "         -0.0160,  0.1645, -0.0498, -0.1181],\n",
       "        [ 0.1532, -0.1786,  0.0615,  0.0677, -0.2132,  0.1677,  0.1764,  0.1194,\n",
       "         -0.2043,  0.1781, -0.0723, -0.0688,  0.1946, -0.0635, -0.0970,  0.1367,\n",
       "         -0.0778, -0.1945,  0.0559,  0.0801],\n",
       "        [ 0.2235, -0.0771, -0.1586,  0.0949,  0.1766,  0.1888, -0.1226, -0.0642,\n",
       "          0.1732, -0.1640,  0.1564,  0.1104, -0.0224, -0.1200, -0.2104, -0.1328,\n",
       "          0.1631, -0.0082,  0.1939,  0.1891],\n",
       "        [-0.0929,  0.2126, -0.1855, -0.1941, -0.0866,  0.2212, -0.1267,  0.0478,\n",
       "          0.0978,  0.1646, -0.1212, -0.2174, -0.1920, -0.1918, -0.0184, -0.1894,\n",
       "          0.0231, -0.1215,  0.1042,  0.1735],\n",
       "        [-0.2023,  0.0258,  0.1508,  0.0730,  0.2231,  0.1967, -0.0471,  0.0923,\n",
       "         -0.0751,  0.0703,  0.1047,  0.1595, -0.0918, -0.1010,  0.1840,  0.1183,\n",
       "         -0.0371,  0.1708, -0.1729, -0.0989],\n",
       "        [-0.0577,  0.0642,  0.1025, -0.0250,  0.1608, -0.0248,  0.0043,  0.1596,\n",
       "          0.1869, -0.1893,  0.0830, -0.1773,  0.0977, -0.0971, -0.1413,  0.0944,\n",
       "          0.2136,  0.1788,  0.1029, -0.0631],\n",
       "        [-0.1184,  0.0270,  0.0305,  0.1184, -0.1277, -0.1648, -0.0555, -0.2123,\n",
       "         -0.1027,  0.1148, -0.1112, -0.1092,  0.0184,  0.1489,  0.1677,  0.1428,\n",
       "         -0.1301, -0.1536, -0.1543, -0.1257],\n",
       "        [-0.2031,  0.2218, -0.0809, -0.0215, -0.0181,  0.1396,  0.1622,  0.1285,\n",
       "          0.2206,  0.1390,  0.0470, -0.0754,  0.0578,  0.2038, -0.1203,  0.1584,\n",
       "          0.1618, -0.0070, -0.1441, -0.0155],\n",
       "        [-0.0551, -0.0050, -0.1563,  0.0215,  0.0517, -0.0112,  0.2107,  0.0515,\n",
       "         -0.0221,  0.0959, -0.2192,  0.1590, -0.1503,  0.1774,  0.2104,  0.0591,\n",
       "          0.1181,  0.2119,  0.1700,  0.0701],\n",
       "        [-0.0383,  0.1193, -0.1721,  0.0506, -0.0328, -0.0990,  0.1515,  0.1260,\n",
       "         -0.1883,  0.0983,  0.1528, -0.1496,  0.1203, -0.0501, -0.1279,  0.1858,\n",
       "          0.0560,  0.1437,  0.0045,  0.0157],\n",
       "        [ 0.0443,  0.0571, -0.2029, -0.1340, -0.0767,  0.1039,  0.0612,  0.1835,\n",
       "          0.1017, -0.1711, -0.0687, -0.1365, -0.1967,  0.1117,  0.1291, -0.1614,\n",
       "         -0.0894,  0.0809, -0.1229, -0.1870]], requires_grad=True)"
      ]
     },
     "execution_count": 12,
     "metadata": {},
     "output_type": "execute_result"
    }
   ],
   "source": [
    "model.linear.weight"
   ]
  },
  {
   "cell_type": "code",
   "execution_count": 13,
   "id": "53afd0e8",
   "metadata": {},
   "outputs": [
    {
     "data": {
      "text/plain": [
       "[('linear.weight', torch.Size([20, 20])), ('linear.bias', torch.Size([20]))]"
      ]
     },
     "execution_count": 13,
     "metadata": {},
     "output_type": "execute_result"
    }
   ],
   "source": [
    "[(name, param.shape) for name, param in model.named_parameters()]"
   ]
  },
  {
   "cell_type": "markdown",
   "id": "8bde6b96",
   "metadata": {},
   "source": [
    "## Tied Parameters"
   ]
  },
  {
   "cell_type": "code",
   "execution_count": 14,
   "id": "898963c2",
   "metadata": {},
   "outputs": [
    {
     "name": "stdout",
     "output_type": "stream",
     "text": [
      "tensor([True, True, True, True, True, True, True, True])\n",
      "tensor([True, True, True, True, True, True, True, True])\n"
     ]
    }
   ],
   "source": [
    "# We need to give the shared layer a name so that we can refer to its\n",
    "# parameters\n",
    "shared = nn.LazyLinear(8)\n",
    "net = nn.Sequential(nn.LazyLinear(8), nn.ReLU(),\n",
    "                    shared, nn.ReLU(),\n",
    "                    shared, nn.ReLU(),\n",
    "                    nn.LazyLinear(1))\n",
    "\n",
    "net(X)\n",
    "# Check whether the parameters are the same\n",
    "print(net[2].weight.data[0] == net[4].weight.data[0])\n",
    "net[2].weight.data[0, 0] = 100\n",
    "# Make sure that they are actually the same object rather than just having the\n",
    "# same value\n",
    "print(net[2].weight.data[0] == net[4].weight.data[0])"
   ]
  },
  {
   "cell_type": "markdown",
   "id": "188337b1",
   "metadata": {},
   "source": [
    "# Parameter Initialization"
   ]
  },
  {
   "cell_type": "markdown",
   "id": "6dd939c1",
   "metadata": {},
   "source": [
    "## Built-in Initialization"
   ]
  },
  {
   "cell_type": "code",
   "execution_count": null,
   "id": "b207111f",
   "metadata": {},
   "outputs": [
    {
     "data": {
      "text/plain": [
       "(tensor([-0.0009, -0.0068, -0.0071, -0.0107, -0.0018,  0.0019, -0.0017, -0.0086,\n",
       "         -0.0058, -0.0020, -0.0180,  0.0125,  0.0091,  0.0035, -0.0111, -0.0028,\n",
       "         -0.0041,  0.0070,  0.0023,  0.0064]),\n",
       " tensor(0.))"
      ]
     },
     "execution_count": 15,
     "metadata": {},
     "output_type": "execute_result"
    }
   ],
   "source": [
    "def init_normal(module):\n",
    "    if type(module) == nn.Linear:\n",
    "        nn.init.normal_(module.weight, mean=0, std=0.01)\n",
    "        nn.init.zeros_(module.bias)\n",
    "\n",
    "net.apply(init_normal)\n",
    "net[0].weight.data[0], net[0].bias.data[0]"
   ]
  },
  {
   "cell_type": "code",
   "execution_count": 16,
   "id": "86494efd",
   "metadata": {},
   "outputs": [
    {
     "data": {
      "text/plain": [
       "(tensor([1., 1., 1., 1., 1., 1., 1., 1., 1., 1., 1., 1., 1., 1., 1., 1., 1., 1.,\n",
       "         1., 1.]),\n",
       " tensor(0.))"
      ]
     },
     "execution_count": 16,
     "metadata": {},
     "output_type": "execute_result"
    }
   ],
   "source": [
    "def init_constant(module):\n",
    "    if type(module) == nn.Linear:\n",
    "        nn.init.constant_(module.weight, 1)\n",
    "        nn.init.zeros_(module.bias)\n",
    "\n",
    "net.apply(init_constant)\n",
    "net[0].weight.data[0], net[0].bias.data[0]"
   ]
  },
  {
   "cell_type": "code",
   "execution_count": 17,
   "id": "bea28725",
   "metadata": {},
   "outputs": [
    {
     "name": "stdout",
     "output_type": "stream",
     "text": [
      "tensor([ 0.4260,  0.2383,  0.0391,  0.0382, -0.3253, -0.3273,  0.3385,  0.3767,\n",
      "        -0.2979,  0.3159, -0.0145, -0.0432,  0.4061, -0.2579,  0.4494,  0.2478,\n",
      "         0.1121,  0.0312, -0.3097, -0.1953])\n",
      "tensor([[42., 42., 42., 42., 42., 42., 42., 42.],\n",
      "        [42., 42., 42., 42., 42., 42., 42., 42.],\n",
      "        [42., 42., 42., 42., 42., 42., 42., 42.],\n",
      "        [42., 42., 42., 42., 42., 42., 42., 42.],\n",
      "        [42., 42., 42., 42., 42., 42., 42., 42.],\n",
      "        [42., 42., 42., 42., 42., 42., 42., 42.],\n",
      "        [42., 42., 42., 42., 42., 42., 42., 42.],\n",
      "        [42., 42., 42., 42., 42., 42., 42., 42.]])\n"
     ]
    }
   ],
   "source": [
    "def init_xavier(module):\n",
    "    if type(module) == nn.Linear:\n",
    "        nn.init.xavier_uniform_(module.weight)\n",
    "\n",
    "def init_42(module):\n",
    "    if type(module) == nn.Linear:\n",
    "        nn.init.constant_(module.weight, 42)\n",
    "\n",
    "net[0].apply(init_xavier)\n",
    "net[2].apply(init_42)\n",
    "print(net[0].weight.data[0])\n",
    "print(net[2].weight.data)"
   ]
  },
  {
   "cell_type": "markdown",
   "id": "c1310e52",
   "metadata": {},
   "source": [
    "## Custom Initialization"
   ]
  },
  {
   "cell_type": "code",
   "execution_count": 18,
   "id": "1552e076",
   "metadata": {},
   "outputs": [
    {
     "name": "stdout",
     "output_type": "stream",
     "text": [
      "Init weight torch.Size([8, 20])\n",
      "Init weight torch.Size([8, 8])\n",
      "Init weight torch.Size([1, 8])\n"
     ]
    },
    {
     "data": {
      "text/plain": [
       "tensor([[-0.0000,  9.2186,  0.0000, -0.0000, -8.2066, -0.0000, -0.0000, -7.0023,\n",
       "         -6.6691,  0.0000, -0.0000,  0.0000,  0.0000,  9.9865,  6.0860, -0.0000,\n",
       "         -0.0000, -0.0000,  5.9988, -6.2775],\n",
       "        [ 5.5659, -0.0000,  9.3292,  0.0000,  6.7719,  5.8093, -0.0000,  7.0174,\n",
       "          7.5207,  0.0000,  0.0000, -0.0000,  7.3183,  0.0000, -0.0000,  7.6960,\n",
       "          0.0000,  0.0000,  8.9633, -0.0000]], grad_fn=<SliceBackward0>)"
      ]
     },
     "execution_count": 18,
     "metadata": {},
     "output_type": "execute_result"
    }
   ],
   "source": [
    "def my_init(module):\n",
    "    if type(module) == nn.Linear:\n",
    "        print(\"Init\", *[(name, param.shape)\n",
    "                        for name, param in module.named_parameters()][0])\n",
    "        nn.init.uniform_(module.weight, -10, 10)\n",
    "        module.weight.data *= module.weight.data.abs() >= 5\n",
    "\n",
    "net.apply(my_init)\n",
    "net[0].weight[:2]"
   ]
  },
  {
   "cell_type": "code",
   "execution_count": 19,
   "id": "2b40cc43",
   "metadata": {},
   "outputs": [
    {
     "data": {
      "text/plain": [
       "tensor([42.0000, 10.2186,  1.0000,  1.0000, -7.2066,  1.0000,  1.0000, -6.0023,\n",
       "        -5.6691,  1.0000,  1.0000,  1.0000,  1.0000, 10.9865,  7.0860,  1.0000,\n",
       "         1.0000,  1.0000,  6.9988, -5.2775])"
      ]
     },
     "execution_count": 19,
     "metadata": {},
     "output_type": "execute_result"
    }
   ],
   "source": [
    "net[0].weight.data[:] += 1\n",
    "net[0].weight.data[0, 0] = 42\n",
    "net[0].weight.data[0]"
   ]
  },
  {
   "cell_type": "markdown",
   "id": "4af7d006",
   "metadata": {},
   "source": [
    "# Lazy Initialization"
   ]
  },
  {
   "cell_type": "markdown",
   "id": "263d5085",
   "metadata": {},
   "source": [
    "For cases in which we do not define the dimensions of the layers of the Neural Network beforehand and instead initialize it based on the input dimensions"
   ]
  },
  {
   "cell_type": "code",
   "execution_count": 24,
   "id": "57c4d84a",
   "metadata": {},
   "outputs": [],
   "source": [
    "net = nn.Sequential(nn.LazyLinear(256), nn.ReLU(), nn.LazyLinear(10))"
   ]
  },
  {
   "cell_type": "code",
   "execution_count": 25,
   "id": "16d411c1",
   "metadata": {},
   "outputs": [
    {
     "data": {
      "text/plain": [
       "<UninitializedParameter>"
      ]
     },
     "execution_count": 25,
     "metadata": {},
     "output_type": "execute_result"
    }
   ],
   "source": [
    "net[0].weight\n"
   ]
  },
  {
   "cell_type": "code",
   "execution_count": 27,
   "id": "e84bff81",
   "metadata": {},
   "outputs": [
    {
     "data": {
      "text/plain": [
       "torch.Size([256, 20])"
      ]
     },
     "execution_count": 27,
     "metadata": {},
     "output_type": "execute_result"
    }
   ],
   "source": [
    "X = torch.rand(2, 20)\n",
    "net(X)\n",
    "\n",
    "net[0].weight.shape"
   ]
  },
  {
   "cell_type": "markdown",
   "id": "d7108f52",
   "metadata": {},
   "source": [
    "# Custom Layers"
   ]
  },
  {
   "cell_type": "markdown",
   "id": "69ec664f",
   "metadata": {},
   "source": [
    "Layers Without Parameters"
   ]
  },
  {
   "cell_type": "code",
   "execution_count": 28,
   "id": "ee9ca2a5",
   "metadata": {},
   "outputs": [],
   "source": [
    "class CenteredLayer(nn.Module):\n",
    "    def __init__(self):\n",
    "        super().__init__()\n",
    "\n",
    "    def forward(self, X):\n",
    "        return X - X.mean()"
   ]
  },
  {
   "cell_type": "code",
   "execution_count": 29,
   "id": "867f8ea3",
   "metadata": {},
   "outputs": [
    {
     "data": {
      "text/plain": [
       "tensor([-2., -1.,  0.,  1.,  2.])"
      ]
     },
     "execution_count": 29,
     "metadata": {},
     "output_type": "execute_result"
    }
   ],
   "source": [
    "layer = CenteredLayer()\n",
    "layer(torch.tensor([1.0, 2, 3, 4, 5]))"
   ]
  },
  {
   "cell_type": "code",
   "execution_count": 30,
   "id": "61d8b68d",
   "metadata": {},
   "outputs": [],
   "source": [
    "net = nn.Sequential(nn.LazyLinear(128), CenteredLayer())"
   ]
  },
  {
   "cell_type": "code",
   "execution_count": 31,
   "id": "ee55b4d9",
   "metadata": {},
   "outputs": [
    {
     "data": {
      "text/plain": [
       "tensor(3.7253e-09, grad_fn=<MeanBackward0>)"
      ]
     },
     "execution_count": 31,
     "metadata": {},
     "output_type": "execute_result"
    }
   ],
   "source": [
    "Y = net(torch.rand(4, 8))\n",
    "Y.mean()"
   ]
  },
  {
   "cell_type": "markdown",
   "id": "47f92f8f",
   "metadata": {},
   "source": [
    "## Layers With Parameters"
   ]
  },
  {
   "cell_type": "code",
   "execution_count": 32,
   "id": "ca05c782",
   "metadata": {},
   "outputs": [],
   "source": [
    "class MyLinear(nn.Module):\n",
    "    def __init__(self, in_units, units):\n",
    "        super().__init__()\n",
    "        self.weight = nn.Parameter(torch.randn(in_units, units))\n",
    "        self.bias = nn.Parameter(torch.randn(units,))\n",
    "\n",
    "    def forward(self, X):\n",
    "        linear = torch.matmul(X, self.weight.data) + self.bias.data\n",
    "        return F.relu(linear)"
   ]
  },
  {
   "cell_type": "code",
   "execution_count": 33,
   "id": "9f88a2f3",
   "metadata": {},
   "outputs": [
    {
     "data": {
      "text/plain": [
       "Parameter containing:\n",
       "tensor([[-0.0904, -1.7410,  0.1128],\n",
       "        [ 0.6905,  0.0621,  0.4388],\n",
       "        [ 0.1429, -1.2900,  0.1187],\n",
       "        [-0.4359,  1.7918,  0.3152],\n",
       "        [-2.7833,  1.2190,  0.5276]], requires_grad=True)"
      ]
     },
     "execution_count": 33,
     "metadata": {},
     "output_type": "execute_result"
    }
   ],
   "source": [
    "linear = MyLinear(5, 3)\n",
    "linear.weight"
   ]
  },
  {
   "cell_type": "code",
   "execution_count": 34,
   "id": "7edac1ed",
   "metadata": {},
   "outputs": [
    {
     "data": {
      "text/plain": [
       "tensor([[0.0000, 0.0000, 1.2237],\n",
       "        [0.0000, 0.1485, 1.2916]])"
      ]
     },
     "execution_count": 34,
     "metadata": {},
     "output_type": "execute_result"
    }
   ],
   "source": [
    "linear(torch.rand(2, 5))"
   ]
  },
  {
   "cell_type": "code",
   "execution_count": 35,
   "id": "e67cb90e",
   "metadata": {},
   "outputs": [
    {
     "data": {
      "text/plain": [
       "tensor([[0.],\n",
       "        [0.]])"
      ]
     },
     "execution_count": 35,
     "metadata": {},
     "output_type": "execute_result"
    }
   ],
   "source": [
    "net = nn.Sequential(MyLinear(64, 8), MyLinear(8, 1))\n",
    "net(torch.rand(2, 64))"
   ]
  },
  {
   "cell_type": "markdown",
   "id": "eccad7af",
   "metadata": {},
   "source": [
    "# File I/O"
   ]
  },
  {
   "cell_type": "markdown",
   "id": "8cf58a67",
   "metadata": {},
   "source": [
    "## Loading and Saving Tensors"
   ]
  },
  {
   "cell_type": "code",
   "execution_count": 36,
   "id": "151cc74d",
   "metadata": {},
   "outputs": [],
   "source": [
    "x = torch.arange(4)\n",
    "torch.save(x, 'x-file')"
   ]
  },
  {
   "cell_type": "code",
   "execution_count": 37,
   "id": "f960cf91",
   "metadata": {},
   "outputs": [
    {
     "data": {
      "text/plain": [
       "tensor([0, 1, 2, 3])"
      ]
     },
     "execution_count": 37,
     "metadata": {},
     "output_type": "execute_result"
    }
   ],
   "source": [
    "x2 = torch.load('x-file')\n",
    "x2"
   ]
  },
  {
   "cell_type": "code",
   "execution_count": 38,
   "id": "b4c08287",
   "metadata": {},
   "outputs": [
    {
     "data": {
      "text/plain": [
       "(tensor([0, 1, 2, 3]), tensor([0., 0., 0., 0.]))"
      ]
     },
     "execution_count": 38,
     "metadata": {},
     "output_type": "execute_result"
    }
   ],
   "source": [
    "y = torch.zeros(4)\n",
    "torch.save([x, y],'x-files')\n",
    "x2, y2 = torch.load('x-files')\n",
    "(x2, y2)"
   ]
  },
  {
   "cell_type": "code",
   "execution_count": 39,
   "id": "8c21fc82",
   "metadata": {},
   "outputs": [
    {
     "data": {
      "text/plain": [
       "{'x': tensor([0, 1, 2, 3]), 'y': tensor([0., 0., 0., 0.])}"
      ]
     },
     "execution_count": 39,
     "metadata": {},
     "output_type": "execute_result"
    }
   ],
   "source": [
    "mydict = {'x': x, 'y': y}\n",
    "torch.save(mydict, 'mydict')\n",
    "mydict2 = torch.load('mydict')\n",
    "mydict2"
   ]
  },
  {
   "cell_type": "markdown",
   "id": "8191133c",
   "metadata": {},
   "source": [
    "## Saving and Loading Model Parameters"
   ]
  },
  {
   "cell_type": "code",
   "execution_count": 40,
   "id": "8502176e",
   "metadata": {},
   "outputs": [],
   "source": [
    "class MLP(nn.Module):\n",
    "    def __init__(self):\n",
    "        super().__init__()\n",
    "        self.hidden = nn.LazyLinear(256)\n",
    "        self.output = nn.LazyLinear(10)\n",
    "\n",
    "    def forward(self, x):\n",
    "        return self.output(F.relu(self.hidden(x)))\n",
    "\n",
    "net = MLP()\n",
    "X = torch.randn(size=(2, 20))\n",
    "Y = net(X)"
   ]
  },
  {
   "cell_type": "code",
   "execution_count": 41,
   "id": "453c8890",
   "metadata": {},
   "outputs": [],
   "source": [
    "torch.save(net.state_dict(), 'mlp.params')"
   ]
  },
  {
   "cell_type": "code",
   "execution_count": 42,
   "id": "ab32f9c0",
   "metadata": {},
   "outputs": [
    {
     "data": {
      "text/plain": [
       "MLP(\n",
       "  (hidden): LazyLinear(in_features=0, out_features=256, bias=True)\n",
       "  (output): LazyLinear(in_features=0, out_features=10, bias=True)\n",
       ")"
      ]
     },
     "execution_count": 42,
     "metadata": {},
     "output_type": "execute_result"
    }
   ],
   "source": [
    "clone = MLP()\n",
    "clone.load_state_dict(torch.load('mlp.params'))\n",
    "clone.eval()"
   ]
  },
  {
   "cell_type": "code",
   "execution_count": 43,
   "id": "13f503f6",
   "metadata": {},
   "outputs": [
    {
     "data": {
      "text/plain": [
       "tensor([[True, True, True, True, True, True, True, True, True, True],\n",
       "        [True, True, True, True, True, True, True, True, True, True]])"
      ]
     },
     "execution_count": 43,
     "metadata": {},
     "output_type": "execute_result"
    }
   ],
   "source": [
    "Y_clone = clone(X)\n",
    "Y_clone == Y"
   ]
  },
  {
   "cell_type": "markdown",
   "id": "32e2f9bd",
   "metadata": {},
   "source": [
    "# Utilizing the GPU"
   ]
  },
  {
   "cell_type": "markdown",
   "id": "4da8d4c6",
   "metadata": {},
   "source": [
    "## Computing Devices"
   ]
  },
  {
   "cell_type": "code",
   "execution_count": 44,
   "id": "0514c925",
   "metadata": {},
   "outputs": [
    {
     "data": {
      "text/plain": [
       "(device(type='cpu'),\n",
       " device(type='cuda', index=0),\n",
       " device(type='cuda', index=1))"
      ]
     },
     "execution_count": 44,
     "metadata": {},
     "output_type": "execute_result"
    }
   ],
   "source": [
    "def cpu():  #@save\n",
    "    \"\"\"Get the CPU device.\"\"\"\n",
    "    return torch.device('cpu')\n",
    "\n",
    "def gpu(i=0):  #@save\n",
    "    \"\"\"Get a GPU device.\"\"\"\n",
    "    return torch.device(f'cuda:{i}')\n",
    "\n",
    "cpu(), gpu(), gpu(1)"
   ]
  },
  {
   "cell_type": "code",
   "execution_count": 45,
   "id": "5673f287",
   "metadata": {},
   "outputs": [
    {
     "data": {
      "text/plain": [
       "1"
      ]
     },
     "execution_count": 45,
     "metadata": {},
     "output_type": "execute_result"
    }
   ],
   "source": [
    "def num_gpus():  #@save\n",
    "    \"\"\"Get the number of available GPUs.\"\"\"\n",
    "    return torch.cuda.device_count()\n",
    "\n",
    "num_gpus()"
   ]
  },
  {
   "cell_type": "code",
   "execution_count": 46,
   "id": "5dee2f53",
   "metadata": {},
   "outputs": [
    {
     "data": {
      "text/plain": [
       "(device(type='cuda', index=0),\n",
       " device(type='cpu'),\n",
       " [device(type='cuda', index=0)])"
      ]
     },
     "execution_count": 46,
     "metadata": {},
     "output_type": "execute_result"
    }
   ],
   "source": [
    "def try_gpu(i=0):  #@save\n",
    "    \"\"\"Return gpu(i) if exists, otherwise return cpu().\"\"\"\n",
    "    if num_gpus() >= i + 1:\n",
    "        return gpu(i)\n",
    "    return cpu()\n",
    "\n",
    "def try_all_gpus():  #@save\n",
    "    \"\"\"Return all available GPUs, or [cpu(),] if no GPU exists.\"\"\"\n",
    "    return [gpu(i) for i in range(num_gpus())]\n",
    "\n",
    "try_gpu(), try_gpu(10), try_all_gpus()"
   ]
  },
  {
   "cell_type": "markdown",
   "id": "b1f63256",
   "metadata": {},
   "source": [
    "## Tensors and GPUs"
   ]
  },
  {
   "cell_type": "code",
   "execution_count": 47,
   "id": "ba7b19fe",
   "metadata": {},
   "outputs": [
    {
     "data": {
      "text/plain": [
       "device(type='cpu')"
      ]
     },
     "execution_count": 47,
     "metadata": {},
     "output_type": "execute_result"
    }
   ],
   "source": [
    "x = torch.tensor([1, 2, 3])\n",
    "x.device"
   ]
  },
  {
   "cell_type": "markdown",
   "id": "d0c48425",
   "metadata": {},
   "source": [
    "### Storing it in the GPU"
   ]
  },
  {
   "cell_type": "code",
   "execution_count": 51,
   "id": "44ad8200",
   "metadata": {},
   "outputs": [],
   "source": [
    "#X = torch.ones(2, 3, device=try_gpu())\n",
    "#X"
   ]
  },
  {
   "cell_type": "code",
   "execution_count": null,
   "id": "4dca615b",
   "metadata": {},
   "outputs": [],
   "source": [
    "#Z = X.cuda(1)\n",
    "#print(X)\n",
    "#print(Z)"
   ]
  },
  {
   "cell_type": "code",
   "execution_count": 52,
   "id": "c49b754d",
   "metadata": {},
   "outputs": [],
   "source": [
    "#Z.cuda(1) is Z"
   ]
  },
  {
   "cell_type": "markdown",
   "id": "b8da3260",
   "metadata": {},
   "source": [
    "# Neural Networks and GPUs"
   ]
  },
  {
   "cell_type": "code",
   "execution_count": 55,
   "id": "cb6305f5",
   "metadata": {},
   "outputs": [
    {
     "data": {
      "text/plain": [
       "'net = nn.Sequential(nn.LazyLinear(1))\\nnet = net.to(device=try_gpu())\\nnet(X)\\nnet[0].weight.data.device'"
      ]
     },
     "execution_count": 55,
     "metadata": {},
     "output_type": "execute_result"
    }
   ],
   "source": [
    "\"\"\"net = nn.Sequential(nn.LazyLinear(1))\n",
    "net = net.to(device=try_gpu())\n",
    "net(X)\n",
    "net[0].weight.data.device\"\"\""
   ]
  },
  {
   "cell_type": "code",
   "execution_count": 54,
   "id": "eafaea3e",
   "metadata": {},
   "outputs": [
    {
     "data": {
      "text/plain": [
       "'def __init__(self, max_epochs, num_gpus=0, gradient_clip_val=0):\\n    self.save_hyperparameters()\\n    self.gpus = [d2l.gpu(i) for i in range(min(num_gpus, d2l.num_gpus()))]\\n\\ndef prepare_batch(self, batch):\\n    if self.gpus:\\n        batch = [a.to(self.gpus[0]) for a in batch]\\n    return batch\\n\\n@d2l.add_to_class(d2l.Trainer)  #@save\\ndef prepare_model(self, model):\\n    model.trainer = self\\n    model.board.xlim = [0, self.max_epochs]\\n    if self.gpus:\\n        model.to(self.gpus[0])\\n    self.model = model'"
      ]
     },
     "execution_count": 54,
     "metadata": {},
     "output_type": "execute_result"
    }
   ],
   "source": [
    "\"\"\"def __init__(self, max_epochs, num_gpus=0, gradient_clip_val=0):\n",
    "    self.save_hyperparameters()\n",
    "    self.gpus = [d2l.gpu(i) for i in range(min(num_gpus, d2l.num_gpus()))]\n",
    "\n",
    "def prepare_batch(self, batch):\n",
    "    if self.gpus:\n",
    "        batch = [a.to(self.gpus[0]) for a in batch]\n",
    "    return batch\n",
    "\n",
    "@d2l.add_to_class(d2l.Trainer)  #@save\n",
    "def prepare_model(self, model):\n",
    "    model.trainer = self\n",
    "    model.board.xlim = [0, self.max_epochs]\n",
    "    if self.gpus:\n",
    "        model.to(self.gpus[0])\n",
    "    self.model = model\"\"\""
   ]
  }
 ],
 "metadata": {
  "kernelspec": {
   "display_name": ".venv",
   "language": "python",
   "name": "python3"
  },
  "language_info": {
   "codemirror_mode": {
    "name": "ipython",
    "version": 3
   },
   "file_extension": ".py",
   "mimetype": "text/x-python",
   "name": "python",
   "nbconvert_exporter": "python",
   "pygments_lexer": "ipython3",
   "version": "3.10.0"
  }
 },
 "nbformat": 4,
 "nbformat_minor": 5
}
