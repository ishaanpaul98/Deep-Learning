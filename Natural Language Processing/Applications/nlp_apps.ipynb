{
 "cells": [
  {
   "cell_type": "markdown",
   "id": "2d820ac8",
   "metadata": {},
   "source": [
    "# Imports"
   ]
  },
  {
   "cell_type": "code",
   "execution_count": 1,
   "id": "62bd6dbe",
   "metadata": {},
   "outputs": [],
   "source": [
    "import collections\n",
    "import math\n",
    "import os\n",
    "import random\n",
    "import torch\n",
    "import matplotlib.pyplot as plt\n",
    "from torch import nn\n",
    "import torch.nn.functional as F\n",
    "import time\n",
    "import numpy as np\n",
    "import re\n",
    "import json\n",
    "import multiprocessing"
   ]
  },
  {
   "cell_type": "markdown",
   "id": "d988a920",
   "metadata": {},
   "source": [
    "# Sentiment Analysis"
   ]
  },
  {
   "cell_type": "markdown",
   "id": "9283f981",
   "metadata": {},
   "source": [
    "## Preprocessing the dataset"
   ]
  },
  {
   "cell_type": "code",
   "execution_count": 2,
   "id": "c8a1c179",
   "metadata": {},
   "outputs": [],
   "source": [
    "def read_imdb(data_dir, is_train):\n",
    "    data, labels = [], []\n",
    "    for label in ['pos', 'neg']:\n",
    "        folder_name = os.path.join(data_dir, 'train' if is_train else 'test', label)\n",
    "        for file in os.listdir(folder_name):\n",
    "            with open(os.path.join(folder_name, file), 'r', encoding='utf-8') as f:\n",
    "                review = f.read().replace('\\n', '')\n",
    "                data.append(review)\n",
    "                labels.append(1 if label == 'pos' else 0)\n",
    "    return data, labels"
   ]
  },
  {
   "cell_type": "code",
   "execution_count": 3,
   "id": "8814ba19",
   "metadata": {},
   "outputs": [
    {
     "name": "stdout",
     "output_type": "stream",
     "text": [
      "# training:  25000\n",
      "label:  1 review:  Bromwell High is a cartoon comedy. It ran at the same time a\n",
      "label:  1 review:  Homelessness (or Houselessness as George Carlin stated) has \n",
      "label:  1 review:  Brilliant over-acting by Lesley Ann Warren. Best dramatic ho\n"
     ]
    }
   ],
   "source": [
    "train_data = read_imdb('aclImdb', True)\n",
    "print('# training: ', len(train_data[0]))\n",
    "for x, y in zip(train_data[0][:3], train_data[1][:3]):\n",
    "    print('label: ', y, 'review: ', x[:60])"
   ]
  },
  {
   "cell_type": "code",
   "execution_count": 4,
   "id": "36f6898d",
   "metadata": {},
   "outputs": [],
   "source": [
    "def preprocess(text):\n",
    "    return re.sub('[^A-Za-z]+', ' ', text).lower()\n",
    "class Vocab:\n",
    "    \"\"\"Vocabulary for text.\"\"\"\n",
    "    def __init__(self, tokens=[], min_freq=0, reserved_tokens=[]):\n",
    "        \"\"\"Defined in :numref:`sec_text-sequence`\"\"\"\n",
    "        # Flatten a 2D list if needed\n",
    "        if tokens and isinstance(tokens[0], list):\n",
    "            tokens = [token for line in tokens for token in line]\n",
    "        # Count token frequencies\n",
    "        counter = collections.Counter(tokens)\n",
    "        self.token_freqs = sorted(counter.items(), key=lambda x: x[1],\n",
    "                                  reverse=True)\n",
    "        # The list of unique tokens\n",
    "        self.idx_to_token = list(sorted(set(['<unk>'] + reserved_tokens + [\n",
    "            token for token, freq in self.token_freqs if freq >= min_freq])))\n",
    "        self.token_to_idx = {token: idx\n",
    "                             for idx, token in enumerate(self.idx_to_token)}\n",
    "\n",
    "    def __len__(self):\n",
    "        return len(self.idx_to_token)\n",
    "\n",
    "    def __getitem__(self, tokens):\n",
    "        if not isinstance(tokens, (list, tuple)):\n",
    "            return self.token_to_idx.get(tokens, self.unk)\n",
    "        return [self.__getitem__(token) for token in tokens]\n",
    "\n",
    "    def to_tokens(self, indices):\n",
    "        if hasattr(indices, '__len__') and len(indices) > 1:\n",
    "            return [self.idx_to_token[int(index)] for index in indices]\n",
    "        return self.idx_to_token[indices]\n",
    "\n",
    "    @property\n",
    "    def unk(self):  # Index for the unknown token\n",
    "        return self.token_to_idx['<unk>']\n",
    "    \n",
    "def tokenize(lines, token='word'):\n",
    "    \"\"\"Split text lines into word or character tokens.\n",
    "\n",
    "    Defined in :numref:`sec_text_preprocessing`\"\"\"\n",
    "    if token == 'word':\n",
    "        return [line.split() for line in lines]\n",
    "    elif token == 'char':\n",
    "        return [list(line) for line in lines]\n",
    "    else:\n",
    "        print('ERROR: unknown token type: ' + token)\n",
    "\n",
    "def build(raw_text, vocab=None):\n",
    "    tokens = tokenize(preprocess(raw_text))\n",
    "    if vocab is None: vocab = Vocab(tokens)\n",
    "    corpus = [vocab[token] for token in tokens]\n",
    "    return corpus, vocab\n"
   ]
  },
  {
   "cell_type": "code",
   "execution_count": 5,
   "id": "4fce8e0e",
   "metadata": {},
   "outputs": [],
   "source": [
    "train_tokens = tokenize(train_data[0], token='word')\n",
    "vocab = Vocab(train_tokens, min_freq=5, reserved_tokens=['<pad>'])"
   ]
  },
  {
   "cell_type": "code",
   "execution_count": 6,
   "id": "8f2f0ed2",
   "metadata": {},
   "outputs": [
    {
     "data": {
      "text/plain": [
       "(array([ 553., 2373., 6820., 4834., 2817., 1848., 1380., 1005.,  759.,\n",
       "         581.,  437.,  349.,  257.,  207.,  174.,  133.,  116.,   85.,\n",
       "          75.]),\n",
       " array([  0.,  50., 100., 150., 200., 250., 300., 350., 400., 450., 500.,\n",
       "        550., 600., 650., 700., 750., 800., 850., 900., 950.]),\n",
       " <BarContainer object of 19 artists>)"
      ]
     },
     "execution_count": 6,
     "metadata": {},
     "output_type": "execute_result"
    },
    {
     "data": {
      "image/png": "[encoded data removed]",
      "text/plain": [
       "<Figure size 1000x500 with 1 Axes>"
      ]
     },
     "metadata": {},
     "output_type": "display_data"
    }
   ],
   "source": [
    "plt.figure(figsize=(10, 5))\n",
    "plt.xlabel('# tokens per review')\n",
    "plt.ylabel('count')\n",
    "plt.hist([len(line) for line in train_tokens], bins=range(0, 1000, 50))"
   ]
  },
  {
   "cell_type": "code",
   "execution_count": 7,
   "id": "1ef57dc0",
   "metadata": {},
   "outputs": [],
   "source": [
    "def truncate_pad(line, num_steps, padding_token):\n",
    "    \"\"\"Truncate or pad sequences.\"\"\"\n",
    "    if len(line) > num_steps:\n",
    "        return line[:num_steps]  # Truncate\n",
    "    return line + [padding_token] * (num_steps - len(line))"
   ]
  },
  {
   "cell_type": "code",
   "execution_count": 8,
   "id": "638164e9",
   "metadata": {},
   "outputs": [],
   "source": [
    "#Sequence length\n",
    "num_steps = 500\n",
    "train_features = torch.tensor([truncate_pad(vocab[line], num_steps, vocab['<pad>']) for line in train_tokens])"
   ]
  },
  {
   "cell_type": "code",
   "execution_count": 9,
   "id": "b9bcc5e3",
   "metadata": {},
   "outputs": [
    {
     "name": "stdout",
     "output_type": "stream",
     "text": [
      "torch.Size([25000, 500])\n"
     ]
    }
   ],
   "source": [
    "print(train_features.shape)"
   ]
  },
  {
   "cell_type": "markdown",
   "id": "b1e8a860",
   "metadata": {},
   "source": [
    "## Creating Data Iterators"
   ]
  },
  {
   "cell_type": "code",
   "execution_count": 10,
   "id": "15159966",
   "metadata": {},
   "outputs": [],
   "source": [
    "def load_array(data_arrays, batch_size, is_train=True):\n",
    "    \"\"\"Construct a PyTorch data iterator.\"\"\"\n",
    "    dataset = torch.utils.data.TensorDataset(*data_arrays)\n",
    "    return torch.utils.data.DataLoader(dataset, batch_size, shuffle=is_train)"
   ]
  },
  {
   "cell_type": "code",
   "execution_count": 11,
   "id": "e4f98727",
   "metadata": {},
   "outputs": [
    {
     "name": "stdout",
     "output_type": "stream",
     "text": [
      "X: torch.Size([64, 500]) y: torch.Size([64])\n",
      "# batches:  391\n"
     ]
    }
   ],
   "source": [
    "train_iter = load_array((train_features, torch.tensor(train_data[1])), batch_size=64, is_train=True)\n",
    "\n",
    "for X, y in train_iter:\n",
    "    print('X:', X.shape, 'y:', y.shape)\n",
    "    break\n",
    "print('# batches: ', len(train_iter))"
   ]
  },
  {
   "cell_type": "markdown",
   "id": "e09d43f6",
   "metadata": {},
   "source": [
    "# Putting it all together"
   ]
  },
  {
   "cell_type": "code",
   "execution_count": 12,
   "id": "c68197dd",
   "metadata": {},
   "outputs": [],
   "source": [
    "def load_data_imdb(batch_size, num_steps=500):\n",
    "    data_dir = \"aclImdb\"\n",
    "    train_data = read_imdb(data_dir, True)\n",
    "    test_data = read_imdb(data_dir, False)\n",
    "    train_tokens = tokenize(train_data[0], token='word')\n",
    "    test_tokens = tokenize(test_data[0], token='word')\n",
    "    vocab = Vocab(train_tokens, min_freq=5)\n",
    "    train_features = torch.tensor([truncate_pad(vocab[line], num_steps, vocab['<pad>']) for line in train_tokens])\n",
    "    test_features = torch.tensor([truncate_pad(vocab[line], num_steps, vocab['<pad>']) for line in test_tokens])\n",
    "    train_iter = load_array((train_features, torch.tensor(train_data[1])), batch_size, is_train=True)\n",
    "    test_iter = load_array((test_features, torch.tensor(test_data[1])), batch_size, is_train=False)\n",
    "    return train_iter, test_iter, vocab\n",
    "\n",
    "train_iter, test_iter, vocab = load_data_imdb(64, 500)"
   ]
  },
  {
   "cell_type": "markdown",
   "id": "6ed00a1f",
   "metadata": {},
   "source": [
    "# Sentiment Analysis Using RNNs"
   ]
  },
  {
   "cell_type": "markdown",
   "id": "91bd8015",
   "metadata": {},
   "source": [
    "## Representing Single Text with RNNs"
   ]
  },
  {
   "cell_type": "code",
   "execution_count": 13,
   "id": "cdec6fc2",
   "metadata": {},
   "outputs": [],
   "source": [
    "class BiRNN(nn.Module):\n",
    "    def __init__(self, num_hidden, vocab_size, embed_size, num_layers, **kwargs):\n",
    "        super(BiRNN, self).__init__(**kwargs)\n",
    "        self.embedding = nn.Embedding(vocab_size, embed_size)\n",
    "        self.encoder = nn.LSTM(embed_size, num_hidden, num_layers=num_layers, bidirectional=True)\n",
    "        self.decoder = nn.Linear(4 * num_hidden, 2)\n",
    "\n",
    "    def forward(self, inputs):\n",
    "        embeddings = self.embedding(inputs.T)\n",
    "        self.encoder.flatten_parameters()\n",
    "        outputs, _ = self.encoder(embeddings)\n",
    "        encoding = torch.cat((outputs[0], outputs[-1]), dim=1)\n",
    "        outs = self.decoder(encoding)\n",
    "        return outs"
   ]
  },
  {
   "cell_type": "code",
   "execution_count": 14,
   "id": "480f2057",
   "metadata": {},
   "outputs": [
    {
     "data": {
      "text/plain": [
       "BiRNN(\n",
       "  (embedding): Embedding(49346, 50)\n",
       "  (encoder): LSTM(50, 50, num_layers=2, bidirectional=True)\n",
       "  (decoder): Linear(in_features=200, out_features=2, bias=True)\n",
       ")"
      ]
     },
     "execution_count": 14,
     "metadata": {},
     "output_type": "execute_result"
    }
   ],
   "source": [
    "num_hidden, embed_size, num_layers = 50, 50, 2\n",
    "net = BiRNN(num_hidden, len(vocab), embed_size, num_layers)\n",
    "\n",
    "def init_weights(module):\n",
    "    if type(module) == nn.Linear:\n",
    "        nn.init.xavier_uniform_(module.weight)\n",
    "    if type(module) == nn.LSTM:\n",
    "        for param in module._flat_weights_names:\n",
    "            if \"weight\" in param:\n",
    "                nn.init.xavier_uniform_(module._parameters[param])\n",
    "\n",
    "net.apply(init_weights)"
   ]
  },
  {
   "cell_type": "markdown",
   "id": "be44a2a3",
   "metadata": {},
   "source": [
    "## Loading Pretrained Word Vectors"
   ]
  },
  {
   "cell_type": "code",
   "execution_count": 15,
   "id": "99fc9484",
   "metadata": {},
   "outputs": [],
   "source": [
    "class TokenEmbeddings:\n",
    "    def __init__(self, embedding_name):\n",
    "        self.idx_to_token, self.idx_to_vec = self._load_embedding(embedding_name)\n",
    "        self.unknown_idx = 0\n",
    "        self.token_to_idx = {token: idx for idx, token in\n",
    "                             enumerate(self.idx_to_token)}\n",
    "\n",
    "    def _load_embedding(self, embedding_name):\n",
    "        idx_to_token, idx_to_vec = ['<unk>'], []\n",
    "        with open(embedding_name, 'r', encoding='utf-8') as f:\n",
    "            for line in f:\n",
    "                parts = line.split(' ')\n",
    "                if len(parts) > 2:\n",
    "                    token = parts[0]\n",
    "                    idx_to_token.append(token)\n",
    "                    idx_to_vec.append([float(x) for x in parts[1:]])\n",
    "        idx_to_vec = [[0] * len(idx_to_vec[0])] + idx_to_vec\n",
    "        return idx_to_token, torch.tensor(idx_to_vec)\n",
    "\n",
    "    def __getitem__(self, tokens):\n",
    "        indices = [self.token_to_idx.get(token, self.unknown_idx)\n",
    "                   for token in tokens]\n",
    "        return self.idx_to_vec[torch.tensor(indices)]\n",
    "\n",
    "    def __len__(self):\n",
    "        return len(self.idx_to_token)"
   ]
  },
  {
   "cell_type": "code",
   "execution_count": 16,
   "id": "ee352f3f",
   "metadata": {},
   "outputs": [],
   "source": [
    "glove_embedding = TokenEmbeddings('../glove.6B.50d/vec.txt')"
   ]
  },
  {
   "cell_type": "code",
   "execution_count": 17,
   "id": "5f73fbb6",
   "metadata": {},
   "outputs": [
    {
     "data": {
      "text/plain": [
       "torch.Size([49346, 50])"
      ]
     },
     "execution_count": 17,
     "metadata": {},
     "output_type": "execute_result"
    }
   ],
   "source": [
    "embeds = glove_embedding[vocab.idx_to_token]\n",
    "embeds.shape"
   ]
  },
  {
   "cell_type": "code",
   "execution_count": 18,
   "id": "ccd3c0ae",
   "metadata": {},
   "outputs": [],
   "source": [
    "net.embedding.weight.data.copy_(embeds)\n",
    "net.embedding.weight.requires_grad = False"
   ]
  },
  {
   "cell_type": "markdown",
   "id": "c55c1765",
   "metadata": {},
   "source": [
    "## Training and Evaluating the Model"
   ]
  },
  {
   "cell_type": "code",
   "execution_count": 19,
   "id": "f7abb019",
   "metadata": {},
   "outputs": [],
   "source": [
    "def train_ch13(net, train_iter, test_iter, loss, trainer, num_epochs, devices):\n",
    "    \"\"\"Train a model with multiple GPUs.\"\"\"\n",
    "    timer, num_batches = Timer(), len(train_iter)\n",
    "    animator = Animator()  # Using the custom Animator implementation\n",
    "    net = nn.DataParallel(net, device_ids=devices).to(devices[0])\n",
    "    \n",
    "    for epoch in range(num_epochs):\n",
    "        metric = Accumulator(4)  # Using the custom Accumulator\n",
    "        for i, (features, labels) in enumerate(train_iter):\n",
    "            timer.start()\n",
    "            l, acc = train_batch_ch13(net, features, labels, loss, trainer, devices)\n",
    "            metric.add(l, acc, labels.shape[0], labels.numel())\n",
    "            timer.stop()\n",
    "            \n",
    "            if (i + 1) % (num_batches // 5) == 0 or i == num_batches - 1:\n",
    "                train_loss = metric[0] / metric[2]\n",
    "                train_acc = metric[1] / metric[3]\n",
    "                animator.add(epoch + (i + 1) / num_batches, \n",
    "                           (train_loss, train_acc, None))\n",
    "        \n",
    "        test_acc = evaluate_accuracy_gpu(net, test_iter)\n",
    "        animator.add(epoch + 1, (None, None, test_acc))\n",
    "    \n",
    "    print(f'Loss: {metric[0] / metric[2]:.3f}')\n",
    "    print(f'Train accuracy: {metric[1] / metric[3]:.3f}')\n",
    "    print(f'Test accuracy: {test_acc:.3f}')\n",
    "    print(f'Training speed: {metric[2] * num_epochs / timer.sum():.1f} examples/sec')\n",
    "    print(f'Device(s) used: {str(devices)}')\n",
    "    \n",
    "    animator.show()  # Display the training curves\n",
    "\n",
    "class Timer:\n",
    "    \"\"\"Recording multiple running times.\"\"\"\n",
    "    def __init__(self):\n",
    "        self.times = []\n",
    "        self.start()\n",
    "\n",
    "    def start(self):\n",
    "        \"\"\"Start the timer.\"\"\"\n",
    "        self.tik = time.time()\n",
    "\n",
    "    def stop(self):\n",
    "        \"\"\"Stop the timer and record the time in a list.\"\"\"\n",
    "        self.times.append(time.time() - self.tik)\n",
    "        return self.times[-1]\n",
    "\n",
    "    def avg(self):\n",
    "        \"\"\"Return the average time.\"\"\"\n",
    "        return sum(self.times) / len(self.times)\n",
    "\n",
    "    def sum(self):\n",
    "        \"\"\"Return the sum of time.\"\"\"\n",
    "        return sum(self.times)\n",
    "\n",
    "    def cumsum(self):\n",
    "        \"\"\"Return the accumulated time.\"\"\"\n",
    "        return np.array(self.times).cumsum().tolist()\n",
    "\n",
    "class Animator:  # Define a new Animator class that properly handles None values\n",
    "\tdef __init__(self, xlabel=None, ylabel=None, legend=None):\n",
    "\t\tself.data = {'train_loss': [], 'train_acc': [], 'test_acc': []}\n",
    "\t\tself.epochs = []\n",
    "\t\t\n",
    "\tdef add(self, epoch, metrics):\n",
    "\t\tself.epochs.append(epoch)\n",
    "\t\ttrain_loss, train_acc, test_acc = metrics\n",
    "\t\tif train_loss is not None:\n",
    "\t\t\tself.data['train_loss'].append(float(train_loss))\n",
    "\t\tif train_acc is not None:\n",
    "\t\t\tself.data['train_acc'].append(float(train_acc))\n",
    "\t\tif test_acc is not None:\n",
    "\t\t\tself.data['test_acc'].append(float(test_acc))\n",
    "\t\t\t\n",
    "\tdef show(self):\n",
    "\t\tplt.figure(figsize=(10, 6))\n",
    "\t\tfor label, values in self.data.items():\n",
    "\t\t\tif values:  # Only plot if we have data\n",
    "\t\t\t\tplt.plot(self.epochs[:len(values)], values, label=label)\n",
    "\t\tplt.xlabel('Epoch')\n",
    "\t\tplt.ylabel('Metric Value')\n",
    "\t\tplt.legend()\n",
    "\t\tplt.grid(True)\n",
    "\t\tplt.show()\n",
    "\n",
    "class Accumulator:\n",
    "    \"\"\"For accumulating sums over `n` variables.\"\"\"\n",
    "    def __init__(self, n):\n",
    "        \"\"\"Defined in :numref:`sec_softmax_scratch`\"\"\"\n",
    "        self.data = [0.0] * n\n",
    "\n",
    "    def add(self, *args):\n",
    "        self.data = [a + float(b) for a, b in zip(self.data, args)]\n",
    "\n",
    "    def reset(self):\n",
    "        self.data = [0.0] * len(self.data)\n",
    "\n",
    "    def __getitem__(self, idx):\n",
    "        return self.data[idx]"
   ]
  },
  {
   "cell_type": "code",
   "execution_count": 20,
   "id": "96b428e8",
   "metadata": {},
   "outputs": [],
   "source": [
    "def accuracy(y_hat, y):\n",
    "    \"\"\"Compute the number of correct predictions.\"\"\"\n",
    "    if len(y_hat.shape) > 1 and y_hat.shape[1] > 1:\n",
    "        y_hat = y_hat.argmax(axis=1)\n",
    "    cmp = y_hat.to(y.dtype) == y\n",
    "    return float(cmp.sum())\n",
    "\n",
    "def evaluate_accuracy_gpu(net, data_iter, device=None):\n",
    "    \"\"\"Compute the accuracy for a model on a dataset using a GPU.\n",
    "\n",
    "    Defined in :numref:`sec_lenet`\"\"\"\n",
    "    if isinstance(net, torch.nn.Module):\n",
    "        net.eval()  # Set the model to evaluation mode\n",
    "        if not device:\n",
    "            device = next(iter(net.parameters())).device\n",
    "    # No. of correct predictions, no. of predictions\n",
    "    metric = Accumulator(2)\n",
    "\n",
    "    with torch.no_grad():\n",
    "        for X, y in data_iter:\n",
    "            if isinstance(X, list):\n",
    "                # Required for BERT Fine-tuning (to be covered later)\n",
    "                X = [x.to(device) for x in X]\n",
    "            else:\n",
    "                X = X.to(device)\n",
    "            y = y.to(device)\n",
    "            metric.add(accuracy(net(X), y), size(y))\n",
    "    return metric[0] / metric[1]\n",
    "\n",
    "size = lambda x, *args, **kwargs: x.numel(*args, **kwargs)\n",
    "\n",
    "def train_batch_ch13(net, X, y, loss, trainer, devices):\n",
    "    \"\"\"Train for a minibatch with multiple GPUs (defined in Chapter 13).\"\"\"\n",
    "    if isinstance(X, list):\n",
    "        # Required for BERT fine-tuning (to be covered later)\n",
    "        X = [x.to(devices[0]) for x in X]\n",
    "    else:\n",
    "        X = X.to(devices[0])\n",
    "    y = y.to(devices[0])\n",
    "    net.train()\n",
    "    trainer.zero_grad()\n",
    "    pred = net(X)\n",
    "    l = loss(pred, y)\n",
    "    l.sum().backward()\n",
    "    trainer.step()\n",
    "    train_loss_sum = l.sum()\n",
    "    train_acc_sum = accuracy(pred, y)\n",
    "    return train_loss_sum, train_acc_sum"
   ]
  },
  {
   "cell_type": "code",
   "execution_count": 21,
   "id": "dc3de967",
   "metadata": {},
   "outputs": [
    {
     "name": "stderr",
     "output_type": "stream",
     "text": [
      "C:\\Users\\Ishaan\\AppData\\Local\\Temp\\ipykernel_30824\\4280381105.py:92: UserWarning: Converting a tensor with requires_grad=True to a scalar may lead to unexpected behavior.\n",
      "Consider using tensor.detach() first. (Triggered internally at C:\\actions-runner\\_work\\pytorch\\pytorch\\pytorch\\torch\\csrc\\autograd\\generated\\python_variable_methods.cpp:836.)\n",
      "  self.data = [a + float(b) for a, b in zip(self.data, args)]\n"
     ]
    },
    {
     "name": "stdout",
     "output_type": "stream",
     "text": [
      "Loss: 0.353\n",
      "Train accuracy: 0.841\n",
      "Test accuracy: 0.838\n",
      "Training speed: 10166.7 examples/sec\n",
      "Device(s) used: [device(type='cuda', index=0)]\n"
     ]
    },
    {
     "data": {
      "image/png": "[encoded data removed]",
      "text/plain": [
       "<Figure size 1000x600 with 1 Axes>"
      ]
     },
     "metadata": {},
     "output_type": "display_data"
    }
   ],
   "source": [
    "lr, num_epochs, devices = 0.01, 5, [torch.device(f'cuda:{i}') for i in range(torch.cuda.device_count())]\n",
    "if devices == []:\n",
    "    devices = [torch.device('cpu')]\n",
    "trainer = torch.optim.Adam(net.parameters(), lr=lr)\n",
    "loss = nn.CrossEntropyLoss(reduction=\"none\")\n",
    "train_ch13(net, train_iter, test_iter, loss, trainer, num_epochs, devices)"
   ]
  },
  {
   "cell_type": "code",
   "execution_count": 22,
   "id": "57198e85",
   "metadata": {},
   "outputs": [],
   "source": [
    "def predict_sentiment(net, vocab, sequence, devices):\n",
    "    \"\"\"Predict the sentiment of a text sequence.\"\"\"\n",
    "    sequence = torch.tensor(vocab[sequence.split()], device=devices[0])\n",
    "    label = torch.argmax(net(sequence.reshape(1, -1)), dim=1)\n",
    "    return 'positive' if label == 1 else 'negative'"
   ]
  },
  {
   "cell_type": "code",
   "execution_count": 23,
   "id": "8bcbf5a4",
   "metadata": {},
   "outputs": [
    {
     "data": {
      "text/plain": [
       "'positive'"
      ]
     },
     "execution_count": 23,
     "metadata": {},
     "output_type": "execute_result"
    }
   ],
   "source": [
    "predict_sentiment(net, vocab, 'this movie is so great', devices=devices)\n"
   ]
  },
  {
   "cell_type": "code",
   "execution_count": 24,
   "id": "89c76ebe",
   "metadata": {},
   "outputs": [
    {
     "data": {
      "text/plain": [
       "'negative'"
      ]
     },
     "execution_count": 24,
     "metadata": {},
     "output_type": "execute_result"
    }
   ],
   "source": [
    "predict_sentiment(net, vocab, 'this movie is so bad', devices=devices)\n"
   ]
  },
  {
   "cell_type": "markdown",
   "id": "dfd2d5d6",
   "metadata": {},
   "source": [
    "# Sentiment Analysis: Using Convolutional Neural Networks"
   ]
  },
  {
   "cell_type": "code",
   "execution_count": 25,
   "id": "c51e11ee",
   "metadata": {},
   "outputs": [],
   "source": [
    "batch_size = 64\n",
    "train_iter, test_iter, vocab = load_data_imdb(batch_size)"
   ]
  },
  {
   "cell_type": "markdown",
   "id": "b696b81b",
   "metadata": {},
   "source": [
    "## One-Dimensional Convolutions"
   ]
  },
  {
   "cell_type": "code",
   "execution_count": 26,
   "id": "46945c42",
   "metadata": {},
   "outputs": [],
   "source": [
    "def corr1d(X, K):\n",
    "    w = K.shape[0]\n",
    "    Y = torch.zeros((X.shape[0] - w + 1))\n",
    "    for i in range(Y.shape[0]):\n",
    "        Y[i] = (X[i: i + w] * K).sum()\n",
    "    return Y"
   ]
  },
  {
   "cell_type": "code",
   "execution_count": 27,
   "id": "6778b299",
   "metadata": {},
   "outputs": [
    {
     "data": {
      "text/plain": [
       "tensor([ 2.,  5.,  8., 11., 14., 17.])"
      ]
     },
     "execution_count": 27,
     "metadata": {},
     "output_type": "execute_result"
    }
   ],
   "source": [
    "X, K = torch.tensor([0, 1, 2, 3, 4, 5, 6]), torch.tensor([1, 2])\n",
    "corr1d(X, K)"
   ]
  },
  {
   "cell_type": "markdown",
   "id": "0457618b",
   "metadata": {},
   "source": [
    "When performing this operation on a one-dimensional input with multiple channels, we set a kernel with the same number of channels, perform cross-correlation operations per channel and sum the output across its channels to get a one-dimensional representation"
   ]
  },
  {
   "cell_type": "code",
   "execution_count": 28,
   "id": "8330ec72",
   "metadata": {},
   "outputs": [],
   "source": [
    "def corr1d_multi_in(X, K):\n",
    "    return sum(corr1d(x, k) for x, k in zip(X, K))"
   ]
  },
  {
   "cell_type": "code",
   "execution_count": 29,
   "id": "f8b7a5aa",
   "metadata": {},
   "outputs": [
    {
     "data": {
      "text/plain": [
       "tensor([ 2.,  8., 14., 20., 26., 32.])"
      ]
     },
     "execution_count": 29,
     "metadata": {},
     "output_type": "execute_result"
    }
   ],
   "source": [
    "X = torch.tensor([[0, 1, 2, 3, 4, 5, 6],\n",
    "              [1, 2, 3, 4, 5, 6, 7],\n",
    "              [2, 3, 4, 5, 6, 7, 8]])\n",
    "K = torch.tensor([[1, 2], [3, 4], [-1, -3]])\n",
    "corr1d_multi_in(X, K)"
   ]
  },
  {
   "cell_type": "markdown",
   "id": "14aa331f",
   "metadata": {},
   "source": [
    "# The TextCNN Model"
   ]
  },
  {
   "cell_type": "code",
   "execution_count": 30,
   "id": "07486a06",
   "metadata": {},
   "outputs": [],
   "source": [
    "class TextCNN(nn.Module):\n",
    "    def __init__(self, vocab_size, embed_size, kernel_sizes, num_channels,\n",
    "                 **kwargs):\n",
    "        super(TextCNN, self).__init__(**kwargs)\n",
    "        self.embedding = nn.Embedding(vocab_size, embed_size)\n",
    "        # The embedding layer not to be trained\n",
    "        self.constant_embedding = nn.Embedding(vocab_size, embed_size)\n",
    "        self.dropout = nn.Dropout(0.5)\n",
    "        self.decoder = nn.Linear(sum(num_channels), 2)\n",
    "        # The max-over-time pooling layer has no parameters, so this instance\n",
    "        # can be shared\n",
    "        self.pool = nn.AdaptiveAvgPool1d(1)\n",
    "        self.relu = nn.ReLU()\n",
    "        # Create multiple one-dimensional convolutional layers\n",
    "        self.convs = nn.ModuleList()\n",
    "        for c, k in zip(num_channels, kernel_sizes):\n",
    "            self.convs.append(nn.Conv1d(2 * embed_size, c, k))\n",
    "\n",
    "    def forward(self, inputs):\n",
    "        # Concatenate two embedding layer outputs with shape (batch size, no.\n",
    "        # of tokens, token vector dimension) along vectors\n",
    "        embeddings = torch.cat((\n",
    "            self.embedding(inputs), self.constant_embedding(inputs)), dim=2)\n",
    "        # Per the input format of one-dimensional convolutional layers,\n",
    "        # rearrange the tensor so that the second dimension stores channels\n",
    "        embeddings = embeddings.permute(0, 2, 1)\n",
    "        # For each one-dimensional convolutional layer, after max-over-time\n",
    "        # pooling, a tensor of shape (batch size, no. of channels, 1) is\n",
    "        # obtained. Remove the last dimension and concatenate along channels\n",
    "        encoding = torch.cat([\n",
    "            torch.squeeze(self.relu(self.pool(conv(embeddings))), dim=-1)\n",
    "            for conv in self.convs], dim=1)\n",
    "        outputs = self.decoder(self.dropout(encoding))\n",
    "        return outputs"
   ]
  },
  {
   "cell_type": "code",
   "execution_count": 31,
   "id": "353f3f6f",
   "metadata": {},
   "outputs": [],
   "source": [
    "embed_size, kernel_sizes, nums_channels = 50, [3, 4, 5], [50, 50, 50]\n",
    "net = TextCNN(len(vocab), embed_size, kernel_sizes, nums_channels)\n",
    "\n",
    "def init_weights(module):\n",
    "    if type(module) in (nn.Linear, nn.Conv1d):\n",
    "        nn.init.xavier_uniform_(module.weight)\n",
    "\n",
    "net.apply(init_weights);"
   ]
  },
  {
   "cell_type": "markdown",
   "id": "bbd21b06",
   "metadata": {},
   "source": [
    "### Loading Pretrained Word Vectors"
   ]
  },
  {
   "cell_type": "code",
   "execution_count": 32,
   "id": "e4dfebb0",
   "metadata": {},
   "outputs": [],
   "source": [
    "glove_embedding = TokenEmbeddings('../glove.6B.50d/vec.txt')\n",
    "embeds = glove_embedding[vocab.idx_to_token]\n",
    "net.embedding.weight.data.copy_(embeds)\n",
    "net.constant_embedding.weight.data.copy_(embeds)\n",
    "net.constant_embedding.weight.requires_grad = False"
   ]
  },
  {
   "cell_type": "markdown",
   "id": "76acfea8",
   "metadata": {},
   "source": [
    "### Training and Evaluating the Model"
   ]
  },
  {
   "cell_type": "code",
   "execution_count": 33,
   "id": "f8d1cbce",
   "metadata": {},
   "outputs": [
    {
     "name": "stdout",
     "output_type": "stream",
     "text": [
      "Loss: 0.088\n",
      "Train accuracy: 0.972\n",
      "Test accuracy: 0.876\n",
      "Training speed: 14476.3 examples/sec\n",
      "Device(s) used: [device(type='cuda', index=0)]\n"
     ]
    },
    {
     "data": {
      "image/png": "[encoded data removed]",
      "text/plain": [
       "<Figure size 1000x600 with 1 Axes>"
      ]
     },
     "metadata": {},
     "output_type": "display_data"
    }
   ],
   "source": [
    "lr, num_epochs = 0.001, 5\n",
    "trainer = torch.optim.Adam(net.parameters(), lr=lr)\n",
    "loss = nn.CrossEntropyLoss(reduction=\"none\")\n",
    "train_ch13(net, train_iter, test_iter, loss, trainer, num_epochs, devices)"
   ]
  },
  {
   "cell_type": "code",
   "execution_count": 34,
   "id": "cf87cbf0",
   "metadata": {},
   "outputs": [
    {
     "data": {
      "text/plain": [
       "'positive'"
      ]
     },
     "execution_count": 34,
     "metadata": {},
     "output_type": "execute_result"
    }
   ],
   "source": [
    "predict_sentiment(net, vocab, 'this movie is so great', devices=devices)"
   ]
  },
  {
   "cell_type": "code",
   "execution_count": 35,
   "id": "088970c1",
   "metadata": {},
   "outputs": [
    {
     "data": {
      "text/plain": [
       "'negative'"
      ]
     },
     "execution_count": 35,
     "metadata": {},
     "output_type": "execute_result"
    }
   ],
   "source": [
    "predict_sentiment(net, vocab, 'this movie is so bad', devices=devices)"
   ]
  },
  {
   "cell_type": "markdown",
   "id": "00d4c17b",
   "metadata": {},
   "source": [
    "# Natural Language Inference"
   ]
  },
  {
   "cell_type": "markdown",
   "id": "fb673c6a",
   "metadata": {},
   "source": [
    "## Reading the Dataset"
   ]
  },
  {
   "cell_type": "code",
   "execution_count": 36,
   "id": "9b0f8def",
   "metadata": {},
   "outputs": [],
   "source": [
    "data_dir = 'snli_1.0'\n",
    "def read_snli(data_dir, is_train=False):\n",
    "    def extract_text(s):\n",
    "        s = re.sub('\\\\(', '', s)\n",
    "        s = re.sub('\\\\)', '', s)\n",
    "        s = re.sub('\\\\s{2,}', ' ', s)\n",
    "        return s.strip()\n",
    "    label_set = {'entailment': 0, 'contradiction': 1, 'neutral': 2}\n",
    "    file_name = os.path.join(data_dir, 'snli_1.0_train.txt' if is_train else 'snli_1.0_test.txt')\n",
    "    with open(file_name, 'r') as f:\n",
    "        rows = [row.split('\\t') for row in f.readlines()[1:]]\n",
    "    premises = [extract_text(row[1]) for row in rows if row[0] in label_set]\n",
    "    hypotheses = [extract_text(row[2]) for row in rows if row[0] in label_set]\n",
    "    labels = [label_set[row[0]] for row in rows if row[0] in label_set]\n",
    "    return premises, hypotheses, labels"
   ]
  },
  {
   "cell_type": "code",
   "execution_count": 37,
   "id": "8aff545b",
   "metadata": {},
   "outputs": [
    {
     "name": "stdout",
     "output_type": "stream",
     "text": [
      "premise: A person on a horse jumps over a broken down airplane .\n",
      "hypothesis: A person is training his horse for a competition .\n",
      "label: 2\n",
      "premise: A person on a horse jumps over a broken down airplane .\n",
      "hypothesis: A person is at a diner , ordering an omelette .\n",
      "label: 1\n",
      "premise: A person on a horse jumps over a broken down airplane .\n",
      "hypothesis: A person is outdoors , on a horse .\n",
      "label: 0\n"
     ]
    }
   ],
   "source": [
    "train_data = read_snli(data_dir, True)\n",
    "for x0, x1, y in zip(train_data[0][:3], train_data[1][:3], train_data[2][:3]):\n",
    "    print(f'premise: {x0}')\n",
    "    print(f'hypothesis: {x1}')\n",
    "    print(f'label: {y}')"
   ]
  },
  {
   "cell_type": "code",
   "execution_count": 38,
   "id": "f8b5a205",
   "metadata": {},
   "outputs": [
    {
     "name": "stdout",
     "output_type": "stream",
     "text": [
      "[183416, 183187, 182764]\n",
      "[3368, 3237, 3219]\n"
     ]
    }
   ],
   "source": [
    "test_data = read_snli(data_dir, is_train=False)\n",
    "for data in [train_data, test_data]:\n",
    "    print([[row for row in data[2]].count(i) for i in range(3)])"
   ]
  },
  {
   "cell_type": "markdown",
   "id": "45f70716",
   "metadata": {},
   "source": [
    "### Defining a class for loading the dataset"
   ]
  },
  {
   "cell_type": "code",
   "execution_count": 39,
   "id": "d6697407",
   "metadata": {},
   "outputs": [],
   "source": [
    "class SNLIDataset(torch.utils.data.Dataset):\n",
    "    def __init__(self, dataset, num_steps, vocab=None):\n",
    "        self.num_steps = num_steps\n",
    "        all_premises_tokens = tokenize(dataset[0])\n",
    "        all_hypotheses_tokens = tokenize(dataset[1])\n",
    "        if vocab is None:\n",
    "            self.vocab = Vocab(all_premises_tokens + all_hypotheses_tokens, min_freq=5, reserved_tokens=['<pad>'])\n",
    "        else:\n",
    "            self.vocab = vocab\n",
    "        self.premises = self._pad(all_premises_tokens)\n",
    "        self.hypothesis = self._pad(all_hypotheses_tokens)\n",
    "        self.labels = torch.tensor(dataset[2])\n",
    "        print(f'read {str(len(self.premises))} examples')\n",
    "\n",
    "    def _pad(self, lines):\n",
    "        return torch.tensor([truncate_pad(self.vocab[line], self.num_steps, self.vocab['<pad>']) for line in lines])\n",
    "\n",
    "    def __getitem__(self, idx):\n",
    "        return (self.premises[idx], self.hypothesis[idx]), self.labels[idx]\n",
    "\n",
    "    def __len__(self):\n",
    "        return len(self.premises)"
   ]
  },
  {
   "cell_type": "markdown",
   "id": "0fe39798",
   "metadata": {},
   "source": [
    "## Putting It All Together"
   ]
  },
  {
   "cell_type": "code",
   "execution_count": 40,
   "id": "c9ad25a9",
   "metadata": {},
   "outputs": [],
   "source": [
    "def load_data_snli(batch_size, num_steps=50, data_dir='snli_1.0'):\n",
    "    \"\"\"Download the SNLI dataset and return data iterators and vocabulary.\"\"\"\n",
    "    train_data = read_snli(data_dir, True)\n",
    "    test_data = read_snli(data_dir, False)\n",
    "    train_set = SNLIDataset(train_data, num_steps)\n",
    "    test_set = SNLIDataset(test_data, num_steps, train_set.vocab)\n",
    "    train_iter = torch.utils.data.DataLoader(train_set, batch_size,\n",
    "                                             shuffle=True)\n",
    "    test_iter = torch.utils.data.DataLoader(test_set, batch_size,\n",
    "                                            shuffle=False)\n",
    "    return train_iter, test_iter, train_set.vocab"
   ]
  },
  {
   "cell_type": "code",
   "execution_count": 41,
   "id": "98abeff3",
   "metadata": {},
   "outputs": [
    {
     "name": "stdout",
     "output_type": "stream",
     "text": [
      "read 549367 examples\n",
      "read 9824 examples\n"
     ]
    },
    {
     "data": {
      "text/plain": [
       "18678"
      ]
     },
     "execution_count": 41,
     "metadata": {},
     "output_type": "execute_result"
    }
   ],
   "source": [
    "train_iter, test_iter, vocab = load_data_snli(128, 50)\n",
    "len(vocab)"
   ]
  },
  {
   "cell_type": "code",
   "execution_count": 42,
   "id": "1edd5b3f",
   "metadata": {},
   "outputs": [
    {
     "name": "stdout",
     "output_type": "stream",
     "text": [
      "torch.Size([128, 50])\n",
      "torch.Size([128, 50])\n",
      "torch.Size([128])\n"
     ]
    }
   ],
   "source": [
    "for X, Y in train_iter:\n",
    "    print(X[0].shape)\n",
    "    print(X[1].shape)\n",
    "    print(Y.shape)\n",
    "    break"
   ]
  },
  {
   "cell_type": "markdown",
   "id": "b661f2fb",
   "metadata": {},
   "source": [
    "# Using Attention for Natural Language Inference"
   ]
  },
  {
   "cell_type": "markdown",
   "id": "e5a415c6",
   "metadata": {},
   "source": [
    "### Attending"
   ]
  },
  {
   "cell_type": "code",
   "execution_count": 43,
   "id": "a825a0a9",
   "metadata": {},
   "outputs": [],
   "source": [
    "def mlp(num_inputs, num_hiddens, flatten):\n",
    "    net = []\n",
    "    net.append(nn.Dropout(0.2))\n",
    "    net.append(nn.Linear(num_inputs, num_hiddens))\n",
    "    net.append(nn.ReLU())\n",
    "    if flatten:\n",
    "        net.append(nn.Flatten(start_dim=1))\n",
    "    net.append(nn.Dropout(0.2))\n",
    "    net.append(nn.Linear(num_hiddens, num_hiddens))\n",
    "    net.append(nn.ReLU())\n",
    "    if flatten:\n",
    "        net.append(nn.Flatten(start_dim=1))\n",
    "    return nn.Sequential(*net)"
   ]
  },
  {
   "cell_type": "code",
   "execution_count": 44,
   "id": "240a2230",
   "metadata": {},
   "outputs": [],
   "source": [
    "class Attend(nn.Module):\n",
    "    def __init__(self, num_inputs, num_hiddens, **kwargs):\n",
    "        super().__init__(**kwargs)\n",
    "        self.f = mlp(num_inputs, num_hiddens, False)\n",
    "\n",
    "    def forward(self, A, B):\n",
    "        f_A = self.f(A)\n",
    "        f_B = self.f(B)\n",
    "        e = torch.bmm(f_A, f_B.permute(0, 2, 1))\n",
    "        beta = torch.bmm(F.softmax(e, dim=1), B)\n",
    "        alpha = torch.bmm(F.softmax(e.permute(0, 2, 1), dim = -1), A)\n",
    "        return beta, alpha"
   ]
  },
  {
   "cell_type": "markdown",
   "id": "a6c96f61",
   "metadata": {},
   "source": [
    "### Comparing"
   ]
  },
  {
   "cell_type": "code",
   "execution_count": 45,
   "id": "c1b263e5",
   "metadata": {},
   "outputs": [],
   "source": [
    "class Compare(nn.Module):\n",
    "    def __init__(self, num_inputs, num_hiddens, **kwargs):\n",
    "        super().__init__(**kwargs)\n",
    "        self.g = mlp(num_inputs, num_hiddens, False)\n",
    "\n",
    "    def forward(self, A, B, beta, alpha):\n",
    "        V_A = self.g(torch.cat([A, beta], dim = 2))\n",
    "        V_B = self.g(torch.cat([B, alpha], dim = 2))\n",
    "        return V_A, V_B"
   ]
  },
  {
   "cell_type": "markdown",
   "id": "a2a47ec5",
   "metadata": {},
   "source": [
    "### Aggregating"
   ]
  },
  {
   "cell_type": "code",
   "execution_count": 46,
   "id": "4c506445",
   "metadata": {},
   "outputs": [],
   "source": [
    "class Aggregate(nn.Module):\n",
    "    def __init__(self, num_inputs, num_hiddens, num_outputs, **kwargs):\n",
    "        super().__init__(**kwargs)\n",
    "        self.h = mlp(num_inputs, num_hiddens, True)\n",
    "        self.linear = nn.Linear(num_hiddens, num_outputs)\n",
    "    \n",
    "    def forward(self, V_A, V_B):\n",
    "        V_A = V_A.sum(dim=1)\n",
    "        V_B = V_B.sum(dim=1)\n",
    "        Y_hat = self.linear(self.h(torch.cat([V_A, V_B], dim=1)))\n",
    "        return Y_hat\n"
   ]
  },
  {
   "cell_type": "markdown",
   "id": "966373ba",
   "metadata": {},
   "source": [
    "### Putting it all together"
   ]
  },
  {
   "cell_type": "code",
   "execution_count": 47,
   "id": "0b3d2b86",
   "metadata": {},
   "outputs": [],
   "source": [
    "class DecomposableAttention(nn.Module):\n",
    "    def __init__(self, vocab, embed_size, num_hiddens, num_inputs_attend=50, num_inputs_compare = 100, num_inputs_agg = 400, **kwargs):\n",
    "        super().__init__(**kwargs)\n",
    "        self.embedding = nn.Embedding(len(vocab), embed_size)\n",
    "        self.attend = Attend(num_inputs_attend, num_hiddens)\n",
    "        self.compare = Compare(num_inputs_compare, num_hiddens)\n",
    "        self.aggregate = Aggregate(num_inputs_agg, num_hiddens, num_outputs=3)\n",
    "\n",
    "    def forward(self, X):\n",
    "        premises, hypotheses = X\n",
    "        A = self.embedding(premises)\n",
    "        B = self.embedding(hypotheses)\n",
    "        beta, alpha = self.attend(A, B)\n",
    "        V_A, V_B = self.compare(A, B, beta, alpha)\n",
    "        Y_hat = self.aggregate(V_A, V_B)\n",
    "        return Y_hat\n",
    "        "
   ]
  },
  {
   "cell_type": "markdown",
   "id": "53eeebec",
   "metadata": {},
   "source": [
    "## Training and Evaluating the Model"
   ]
  },
  {
   "cell_type": "markdown",
   "id": "4b67e98c",
   "metadata": {},
   "source": [
    "### Reading the dataset"
   ]
  },
  {
   "cell_type": "code",
   "execution_count": 48,
   "id": "49a5c748",
   "metadata": {},
   "outputs": [
    {
     "name": "stdout",
     "output_type": "stream",
     "text": [
      "read 549367 examples\n",
      "read 9824 examples\n"
     ]
    }
   ],
   "source": [
    "batch_size, num_steps = 256, 50\n",
    "train_iter, test_iter, vocab = load_data_snli(batch_size, num_steps)"
   ]
  },
  {
   "cell_type": "markdown",
   "id": "40c0b72d",
   "metadata": {},
   "source": [
    "### Creating the Model"
   ]
  },
  {
   "cell_type": "code",
   "execution_count": 49,
   "id": "a3f87d9c",
   "metadata": {},
   "outputs": [
    {
     "data": {
      "text/plain": [
       "tensor([[-0.5840,  0.3903,  0.6528,  ..., -1.2338,  0.4672,  0.7886],\n",
       "        [-1.5925,  0.7557,  1.4947,  ..., -0.8408,  0.4949,  0.3405],\n",
       "        [ 0.4389,  0.9030,  1.4060,  ...,  0.0744, -0.6935,  0.8135],\n",
       "        ...,\n",
       "        [ 0.1678, -0.7782,  1.3043,  ..., -0.3280,  0.1582, -0.6909],\n",
       "        [ 0.5088, -0.9340,  0.8817,  ..., -0.7919,  0.2775, -0.4876],\n",
       "        [ 0.3772, -0.1720, -0.2009,  ..., -0.2189, -0.5460,  0.3374]])"
      ]
     },
     "execution_count": 49,
     "metadata": {},
     "output_type": "execute_result"
    }
   ],
   "source": [
    "embed_size, num_hiddens, devices = 50, 200, [torch.device(f'cuda:{i}') for i in range(torch.cuda.device_count())]\n",
    "net = DecomposableAttention(vocab, embed_size, num_hiddens)\n",
    "glove_embedding = TokenEmbeddings('../glove.6B.50d/vec.txt')\n",
    "embeds = glove_embedding[vocab.idx_to_token]\n",
    "net.embedding.weight.data.copy_(embeds)"
   ]
  },
  {
   "cell_type": "markdown",
   "id": "701b12bb",
   "metadata": {},
   "source": [
    "### Training and Evaluating the Model"
   ]
  },
  {
   "cell_type": "code",
   "execution_count": 50,
   "id": "8960d66f",
   "metadata": {},
   "outputs": [],
   "source": [
    "def split_batch_multi_inputs(X, y, devices):\n",
    "    X = list(zip(*[gluon.utils.split_and_load(x, devices) for x in X]))\n",
    "    y = list(zip(*[gluon.utils.split_and_load(y, devices) for y in y]))\n",
    "    return X, y"
   ]
  },
  {
   "cell_type": "code",
   "execution_count": 51,
   "id": "f4759cee",
   "metadata": {},
   "outputs": [
    {
     "name": "stdout",
     "output_type": "stream",
     "text": [
      "Loss: 0.549\n",
      "Train accuracy: 0.780\n",
      "Test accuracy: 0.803\n",
      "Training speed: 33337.4 examples/sec\n",
      "Device(s) used: [device(type='cuda', index=0)]\n"
     ]
    },
    {
     "data": {
      "image/png": "[encoded data removed]",
      "text/plain": [
       "<Figure size 1000x600 with 1 Axes>"
      ]
     },
     "metadata": {},
     "output_type": "display_data"
    }
   ],
   "source": [
    "lr, num_epochs = 0.001, 4\n",
    "trainer = torch.optim.Adam(net.parameters(), lr=lr)\n",
    "loss = nn.CrossEntropyLoss(reduction=\"none\")\n",
    "train_ch13(net, train_iter, test_iter, loss, trainer, num_epochs, devices)"
   ]
  },
  {
   "cell_type": "markdown",
   "id": "1a40bf52",
   "metadata": {},
   "source": [
    "### Using the Model"
   ]
  },
  {
   "cell_type": "code",
   "execution_count": 52,
   "id": "8ea7ad1a",
   "metadata": {},
   "outputs": [],
   "source": [
    "def predict_snli(net, vocab, premise, hypothesis):\n",
    "    net.eval()\n",
    "    premise = torch.tensor(vocab[premise], device=devices[0])\n",
    "    hypothesis = torch.tensor(vocab[hypothesis], device=devices[0])\n",
    "    label = torch.argmax(net((premise.reshape(1, -1), hypothesis.reshape(1, -1))), dim=1)\n",
    "    return 'entailment' if label == 0 else 'contradiction' if label == 1 else 'neutral'\n",
    "    "
   ]
  },
  {
   "cell_type": "code",
   "execution_count": 53,
   "id": "4215bf9e",
   "metadata": {},
   "outputs": [
    {
     "data": {
      "text/plain": [
       "'entailment'"
      ]
     },
     "execution_count": 53,
     "metadata": {},
     "output_type": "execute_result"
    }
   ],
   "source": [
    "predict_snli(net, vocab, ['he', 'is', 'good', '.'], ['he', 'is', 'bad', '.'])"
   ]
  },
  {
   "cell_type": "markdown",
   "id": "fdb5e99f",
   "metadata": {},
   "source": [
    "# Natural Language Inference: Fine-Tuning BERT"
   ]
  },
  {
   "cell_type": "markdown",
   "id": "8b8b7e4c",
   "metadata": {},
   "source": [
    "## Loading Pretrained BERT"
   ]
  },
  {
   "cell_type": "code",
   "execution_count": 54,
   "id": "0b852a70",
   "metadata": {},
   "outputs": [],
   "source": [
    "class BERTEncoder(nn.Module):\n",
    "    def __init__(self, vocab_size, num_hiddens, ffn_num_hiddens, num_heads, num_blks, dropout, max_len = 1000, **kwargs):\n",
    "        super(BERTEncoder, self).__init__(**kwargs)\n",
    "        self.token_embedding = nn.Embedding(vocab_size, num_hiddens)\n",
    "        self.segment_embedding = nn.Embedding(2, num_hiddens)\n",
    "        self.blks = nn.Sequential()\n",
    "        for i in range(num_blks):\n",
    "            self.blks.add_module(f\"{i}\", nn.TransformerEncoderLayer(d_model=num_hiddens, nhead=num_heads, dim_feedforward=ffn_num_hiddens, dropout=dropout, activation='gelu'))\n",
    "        self.pos_embedding = nn.Parameter(torch.randn(1, max_len, num_hiddens))\n",
    "\n",
    "    def forward(self, tokens, segments, valid_lens):\n",
    "        X = self.token_embedding(tokens) + self.segment_embedding(segments)\n",
    "        X = X + self.pos_embedding.data[:, :X.shape[1], :]\n",
    "        \n",
    "        # For now, don't use padding masks since sequences are already padded to same length\n",
    "        # This avoids the batch size mismatch issues\n",
    "        padding_mask = None\n",
    "        \n",
    "        for blk in self.blks:\n",
    "            X = blk(X, src_key_padding_mask=padding_mask)\n",
    "        return X"
   ]
  },
  {
   "cell_type": "code",
   "execution_count": 55,
   "id": "bc522c7d",
   "metadata": {},
   "outputs": [],
   "source": [
    "class MaskLM(nn.Module):\n",
    "    \"\"\"The masked language model task of BERT.\"\"\"\n",
    "    def __init__(self, vocab_size, num_hiddens, **kwargs):\n",
    "        super(MaskLM, self).__init__(**kwargs)\n",
    "        self.mlp = nn.Sequential(nn.LazyLinear(num_hiddens),\n",
    "                                 nn.ReLU(),\n",
    "                                 nn.LayerNorm(num_hiddens),\n",
    "                                 nn.LazyLinear(vocab_size))\n",
    "\n",
    "    def forward(self, X, pred_positions):\n",
    "        num_pred_positions = pred_positions.shape[1]\n",
    "        pred_positions = pred_positions.reshape(-1)\n",
    "        batch_size = X.shape[0]\n",
    "        batch_idx = torch.arange(0, batch_size)\n",
    "        # Suppose that `batch_size` = 2, `num_pred_positions` = 3, then\n",
    "        # `batch_idx` is `torch.tensor([0, 0, 0, 1, 1, 1])`\n",
    "        batch_idx = torch.repeat_interleave(batch_idx, num_pred_positions)\n",
    "        masked_X = X[batch_idx, pred_positions]\n",
    "        masked_X = masked_X.reshape((batch_size, num_pred_positions, -1))\n",
    "        mlm_Y_hat = self.mlp(masked_X)\n",
    "        return mlm_Y_hat"
   ]
  },
  {
   "cell_type": "code",
   "execution_count": 56,
   "id": "f09e134a",
   "metadata": {},
   "outputs": [],
   "source": [
    "class NextSentencePred(nn.Module):\n",
    "    def __init__(self, **kwargs):\n",
    "        super(NextSentencePred, self).__init__(**kwargs)\n",
    "        self.output = nn.LazyLinear(2)\n",
    "    \n",
    "    def forward(self, X):\n",
    "        return self.output(X)"
   ]
  },
  {
   "cell_type": "code",
   "execution_count": 57,
   "id": "38e072c6",
   "metadata": {},
   "outputs": [],
   "source": [
    "class BERTModel(nn.Module):\n",
    "    \"\"\"The BERT model.\"\"\"\n",
    "    def __init__(self, vocab_size, num_hiddens, ffn_num_hiddens,\n",
    "                 num_heads, num_blks, dropout, max_len=1000):\n",
    "        super(BERTModel, self).__init__()\n",
    "        self.encoder = BERTEncoder(vocab_size, num_hiddens, ffn_num_hiddens,\n",
    "                                   num_heads, num_blks, dropout,\n",
    "                                   max_len=max_len)\n",
    "        self.hidden = nn.Sequential(nn.LazyLinear(num_hiddens),\n",
    "                                    nn.Tanh())\n",
    "        self.mlm = MaskLM(vocab_size, num_hiddens)\n",
    "        self.nsp = NextSentencePred()\n",
    "\n",
    "    def forward(self, tokens, segments, valid_lens=None, pred_positions=None):\n",
    "        encoded_X = self.encoder(tokens, segments, valid_lens)\n",
    "        if pred_positions is not None:\n",
    "            mlm_Y_hat = self.mlm(encoded_X, pred_positions)\n",
    "        else:\n",
    "            mlm_Y_hat = None\n",
    "        # The hidden layer of the MLP classifier for next sentence prediction.\n",
    "        # 0 is the index of the '<cls>' token\n",
    "        nsp_Y_hat = self.nsp(self.hidden(encoded_X[:, 0, :]))\n",
    "        return encoded_X, mlm_Y_hat, nsp_Y_hat"
   ]
  },
  {
   "cell_type": "code",
   "execution_count": 58,
   "id": "bdce1139",
   "metadata": {},
   "outputs": [],
   "source": [
    "def map_pretrained_weights(pretrained_dict, current_model):\n",
    "    \"\"\"\n",
    "    Map pretrained weights from custom BERT architecture to PyTorch TransformerEncoderLayer architecture.\n",
    "    \n",
    "    Args:\n",
    "        pretrained_dict: Dictionary containing pretrained weights\n",
    "        current_model: Current BERT model using nn.TransformerEncoderLayer\n",
    "    \n",
    "    Returns:\n",
    "        Mapped state dictionary compatible with current model\n",
    "    \"\"\"\n",
    "    mapped_dict = {}\n",
    "    \n",
    "    # Copy non-transformer weights directly\n",
    "    for key, value in pretrained_dict.items():\n",
    "        if not any(x in key for x in ['encoder.blks', 'attention', 'addnorm', 'ffn']):\n",
    "            mapped_dict[key] = value\n",
    "    \n",
    "    # Map transformer encoder layer weights\n",
    "    for key, value in pretrained_dict.items():\n",
    "        if 'encoder.blks' in key:\n",
    "            # Extract block number\n",
    "            block_num = key.split('.')[2]  # e.g., \"0\" from \"encoder.blks.0.attention.W_q.weight\"\n",
    "            \n",
    "            # Map attention weights\n",
    "            if 'attention.W_q.weight' in key:\n",
    "                mapped_key = f'encoder.blks.{block_num}.self_attn.in_proj_weight'\n",
    "                # PyTorch's in_proj_weight combines W_q, W_k, W_v in that order\n",
    "                # We need to reconstruct this from separate matrices\n",
    "                w_q = pretrained_dict[f'encoder.blks.{block_num}.attention.W_q.weight']\n",
    "                w_k = pretrained_dict[f'encoder.blks.{block_num}.attention.W_k.weight'] \n",
    "                w_v = pretrained_dict[f'encoder.blks.{block_num}.attention.W_v.weight']\n",
    "                w_qkv = torch.cat([w_q, w_k, w_v], dim=0)\n",
    "                mapped_dict[mapped_key] = w_qkv\n",
    "                \n",
    "            elif 'attention.W_q.bias' in key:\n",
    "                mapped_key = f'encoder.blks.{block_num}.self_attn.in_proj_bias'\n",
    "                b_q = pretrained_dict[f'encoder.blks.{block_num}.attention.W_q.bias']\n",
    "                b_k = pretrained_dict[f'encoder.blks.{block_num}.attention.W_k.bias']\n",
    "                b_v = pretrained_dict[f'encoder.blks.{block_num}.attention.W_v.bias']\n",
    "                b_qkv = torch.cat([b_q, b_k, b_v], dim=0)\n",
    "                mapped_dict[mapped_key] = b_qkv\n",
    "                \n",
    "            elif 'attention.W_o.weight' in key:\n",
    "                mapped_key = f'encoder.blks.{block_num}.self_attn.out_proj.weight'\n",
    "                mapped_dict[mapped_key] = value\n",
    "                \n",
    "            elif 'attention.W_o.bias' in key:\n",
    "                mapped_key = f'encoder.blks.{block_num}.self_attn.out_proj.bias'\n",
    "                mapped_dict[mapped_key] = value\n",
    "                \n",
    "            # Map layer normalization weights\n",
    "            elif 'addnorm1.ln.weight' in key:\n",
    "                mapped_key = f'encoder.blks.{block_num}.norm1.weight'\n",
    "                mapped_dict[mapped_key] = value\n",
    "                \n",
    "            elif 'addnorm1.ln.bias' in key:\n",
    "                mapped_key = f'encoder.blks.{block_num}.norm1.bias'\n",
    "                mapped_dict[mapped_key] = value\n",
    "                \n",
    "            elif 'addnorm2.ln.weight' in key:\n",
    "                mapped_key = f'encoder.blks.{block_num}.norm2.weight'\n",
    "                mapped_dict[mapped_key] = value\n",
    "                \n",
    "            elif 'addnorm2.ln.bias' in key:\n",
    "                mapped_key = f'encoder.blks.{block_num}.norm2.bias'\n",
    "                mapped_dict[mapped_key] = value\n",
    "                \n",
    "            # Map feed-forward network weights\n",
    "            elif 'ffn.dense1.weight' in key:\n",
    "                mapped_key = f'encoder.blks.{block_num}.linear1.weight'\n",
    "                mapped_dict[mapped_key] = value\n",
    "                \n",
    "            elif 'ffn.dense1.bias' in key:\n",
    "                mapped_key = f'encoder.blks.{block_num}.linear1.bias'\n",
    "                mapped_dict[mapped_key] = value\n",
    "                \n",
    "            elif 'ffn.dense2.weight' in key:\n",
    "                mapped_key = f'encoder.blks.{block_num}.linear2.weight'\n",
    "                mapped_dict[mapped_key] = value\n",
    "                \n",
    "            elif 'ffn.dense2.bias' in key:\n",
    "                mapped_key = f'encoder.blks.{block_num}.linear2.bias'\n",
    "                mapped_dict[mapped_key] = value\n",
    "    \n",
    "    return mapped_dict\n",
    "\n",
    "def load_pretrained_model(pretrained_model, num_hiddens, ffn_num_hiddens,\n",
    "                          num_heads, num_blks, dropout, max_len, devices):\n",
    "    data_dir = 'bert.small.torch'\n",
    "    vocab = Vocab()\n",
    "    vocab.idx_to_token = json.load(open(os.path.join(data_dir, 'vocab.json')))\n",
    "    vocab.token_to_idx = {token: idx for idx, token in enumerate(\n",
    "        vocab.idx_to_token)}\n",
    "    bert = BERTModel(\n",
    "        len(vocab), num_hiddens, ffn_num_hiddens=ffn_num_hiddens, num_heads=4,\n",
    "        num_blks=2, dropout=0.2, max_len=max_len)\n",
    "    \n",
    "    # Load pretrained BERT parameters\n",
    "    pretrained_dict = torch.load(os.path.join(data_dir, 'pretrained.params'))\n",
    "    \n",
    "    # Map the pretrained weights to current architecture\n",
    "    mapped_dict = map_pretrained_weights(pretrained_dict, bert)\n",
    "    \n",
    "    # Load the mapped weights\n",
    "    bert.load_state_dict(mapped_dict, strict=False)\n",
    "    return bert, vocab"
   ]
  },
  {
   "cell_type": "code",
   "execution_count": 59,
   "id": "4003241e",
   "metadata": {},
   "outputs": [],
   "source": [
    "bert, vocab = load_pretrained_model(\n",
    "    'bert.small', num_hiddens=256, ffn_num_hiddens=512, num_heads=4,\n",
    "    num_blks=2, dropout=0.1, max_len=512, devices=devices)"
   ]
  },
  {
   "cell_type": "markdown",
   "id": "721b0e27",
   "metadata": {},
   "source": [
    "## The Dataset for Fine-Tuning BERT"
   ]
  },
  {
   "cell_type": "code",
   "execution_count": 60,
   "id": "a1759157",
   "metadata": {},
   "outputs": [],
   "source": [
    "class SNLIBERTDataset(torch.utils.data.Dataset):\n",
    "    def __init__(self, dataset, max_len, vocab=None):\n",
    "        all_premise_hypothesis_tokens = [[\n",
    "            p_tokens, h_tokens] for p_tokens, h_tokens in zip(\n",
    "            *[tokenize([s.lower() for s in sentences])\n",
    "              for sentences in dataset[:2]])]\n",
    "\n",
    "        self.labels = torch.tensor(dataset[2])\n",
    "        self.vocab = vocab\n",
    "        self.max_len = max_len\n",
    "        (self.all_token_ids, self.all_segments,\n",
    "         self.valid_lens) = self._preprocess(all_premise_hypothesis_tokens)\n",
    "        print('read ' + str(len(self.all_token_ids)) + ' examples')\n",
    "\n",
    "    def _preprocess(self, all_premise_hypothesis_tokens):\n",
    "        pool = multiprocessing.Pool(4)  # Use 4 worker processes\n",
    "        out = pool.map(self._mp_worker, all_premise_hypothesis_tokens)\n",
    "        all_token_ids = [\n",
    "            token_ids for token_ids, segments, valid_len in out]\n",
    "        all_segments = [segments for token_ids, segments, valid_len in out]\n",
    "        valid_lens = [valid_len for token_ids, segments, valid_len in out]\n",
    "        return (torch.tensor(all_token_ids, dtype=torch.long),\n",
    "                torch.tensor(all_segments, dtype=torch.long),\n",
    "                torch.tensor(valid_lens))\n",
    "\n",
    "    def _mp_worker(self, premise_hypothesis_tokens):\n",
    "        p_tokens, h_tokens = premise_hypothesis_tokens\n",
    "        self._truncate_pair_of_tokens(p_tokens, h_tokens)\n",
    "        tokens, segments = get_tokens_and_segments(p_tokens, h_tokens)\n",
    "        token_ids = self.vocab[tokens] + [self.vocab['<pad>']] \\\n",
    "                             * (self.max_len - len(tokens))\n",
    "        segments = segments + [0] * (self.max_len - len(segments))\n",
    "        valid_len = len(tokens)\n",
    "        return token_ids, segments, valid_len\n",
    "\n",
    "    def _truncate_pair_of_tokens(self, p_tokens, h_tokens):\n",
    "        # Reserve slots for '<CLS>', '<SEP>', and '<SEP>' tokens for the BERT\n",
    "        # input\n",
    "        while len(p_tokens) + len(h_tokens) > self.max_len - 3:\n",
    "            if len(p_tokens) > len(h_tokens):\n",
    "                p_tokens.pop()\n",
    "            else:\n",
    "                h_tokens.pop()\n",
    "\n",
    "    def __getitem__(self, idx):\n",
    "        return (self.all_token_ids[idx], self.all_segments[idx],\n",
    "                self.valid_lens[idx]), self.labels[idx]\n",
    "\n",
    "    def __len__(self):\n",
    "        return len(self.all_token_ids)"
   ]
  },
  {
   "cell_type": "code",
   "execution_count": null,
   "id": "cc019b0b",
   "metadata": {},
   "outputs": [],
   "source": [
    "batch_size, max_len = 512, 128\n",
    "data_dir = 'snli_1.0'\n",
    "train_set = SNLIBERTDataset(read_snli(data_dir, True), max_len, vocab)\n",
    "test_set = SNLIBERTDataset(read_snli(data_dir, False), max_len, vocab)\n",
    "train_iter = torch.utils.data.DataLoader(train_set, batch_size, shuffle=True)\n",
    "test_iter = torch.utils.data.DataLoader(test_set, batch_size)"
   ]
  },
  {
   "cell_type": "markdown",
   "id": "1a8b7b71",
   "metadata": {},
   "source": [
    "## Fine-Tuning BERT"
   ]
  },
  {
   "cell_type": "code",
   "execution_count": null,
   "id": "fa5f4a30",
   "metadata": {},
   "outputs": [],
   "source": [
    "class BERTClassifier(nn.Module):\n",
    "    def __init__(self, bert):\n",
    "        super(BERTClassifier, self).__init__()\n",
    "        self.encoder = bert.encoder\n",
    "        self.hidden = bert.hidden\n",
    "        self.output = nn.LazyLinear(3)\n",
    "\n",
    "    def forward(self, inputs):\n",
    "        tokens_X, segments_X, valid_lens_x = inputs\n",
    "        encoded_X = self.encoder(tokens_X, segments_X, valid_lens_x)\n",
    "        return self.output(self.hidden(encoded_X[:, 0, :]))"
   ]
  },
  {
   "cell_type": "code",
   "execution_count": null,
   "id": "d6d1103a",
   "metadata": {},
   "outputs": [],
   "source": [
    "net = BERTClassifier(bert)"
   ]
  },
  {
   "cell_type": "code",
   "execution_count": null,
   "id": "51134fbb",
   "metadata": {},
   "outputs": [],
   "source": [
    "lr, num_epochs = 1e-4, 5\n",
    "trainer = torch.optim.Adam(net.parameters(), lr=lr)\n",
    "loss = nn.CrossEntropyLoss(reduction='none')\n",
    "net(next(iter(train_iter))[0])\n",
    "train_ch13(net, train_iter, test_iter, loss, trainer, num_epochs, devices)"
   ]
  }
 ],
 "metadata": {
  "kernelspec": {
   "display_name": ".venv",
   "language": "python",
   "name": "python3"
  },
  "language_info": {
   "codemirror_mode": {
    "name": "ipython",
    "version": 3
   },
   "file_extension": ".py",
   "mimetype": "text/x-python",
   "name": "python",
   "nbconvert_exporter": "python",
   "pygments_lexer": "ipython3",
   "version": "3.10.0"
  }
 },
 "nbformat": 4,
 "nbformat_minor": 5
}
